{
 "nbformat": 4,
 "nbformat_minor": 0,
 "metadata": {
  "colab": {
   "provenance": []
  },
  "kernelspec": {
   "name": "python3",
   "display_name": "Python 3"
  },
  "language_info": {
   "name": "python"
  }
 },
 "cells": [
  {
   "cell_type": "code",
   "execution_count": 57,
   "metadata": {
    "id": "uedcz_zsMVg_"
   },
   "outputs": [],
   "source": [
    "import pandas as pd\n",
    "import numpy as np\n",
    "import matplotlib.pyplot as plt\n",
    "import seaborn as sns"
   ]
  },
  {
   "cell_type": "code",
   "source": [
    "url = './Datasets/2012_2019_PlatteRiverWeir_features_merged_all.csv'\n",
    "df = pd.read_csv(url)\n",
    "df"
   ],
   "metadata": {
    "colab": {
     "base_uri": "https://localhost:8080/",
     "height": 661
    },
    "id": "dZO7Q8PdNaPA",
    "outputId": "f56666e6-d16a-4e97-9f54-50afe07eb8a0"
   },
   "execution_count": 58,
   "outputs": [
    {
     "data": {
      "text/plain": "                SensorTime          CaptureTime  \\\n0      2012-06-09 13:15:00  2012-06-09T13:09:07   \n1      2012-06-09 13:15:00  2012-06-09T13:10:29   \n2      2012-06-09 13:45:00  2012-06-09T13:44:01   \n3      2012-06-09 14:45:00  2012-06-09T14:44:30   \n4      2012-06-09 15:45:00  2012-06-09T15:44:59   \n...                    ...                  ...   \n42054  2019-10-11 09:00:00  2019-10-11T08:59:53   \n42055  2019-10-11 10:00:00  2019-10-11T09:59:52   \n42056  2019-10-11 11:00:00  2019-10-11T10:59:52   \n42057  2019-10-11 12:00:00  2019-10-11T11:59:53   \n42058  2019-10-11 12:45:00  2019-10-11T12:59:52   \n\n                                     Filename  Agency   SiteNumber  TimeZone  \\\n0      StateLineWeir_20120609_Farrell_001.jpg    USGS      6674500       MDT   \n1      StateLineWeir_20120609_Farrell_002.jpg    USGS      6674500       MDT   \n2      StateLineWeir_20120609_Farrell_003.jpg    USGS      6674500       MDT   \n3      StateLineWeir_20120609_Farrell_004.jpg    USGS      6674500       MDT   \n4      StateLineWeir_20120609_Farrell_005.jpg    USGS      6674500       MDT   \n...                                       ...     ...          ...       ...   \n42054  StateLineWeir_20191011_Farrell_409.jpg    USGS      6674500       MDT   \n42055  StateLineWeir_20191011_Farrell_410.jpg    USGS      6674500       MDT   \n42056  StateLineWeir_20191011_Farrell_411.jpg    USGS      6674500       MDT   \n42057  StateLineWeir_20191011_Farrell_412.jpg    USGS      6674500       MDT   \n42058  StateLineWeir_20191011_Farrell_413.jpg    USGS      6674500       MDT   \n\n        Stage   Discharge        CalcTimestamp   width  ...   WeirPt2X  \\\n0        2.99       916.0  2020-03-11T16:58:28    4288  ...         -1   \n1        2.99       916.0  2020-03-11T16:58:33    4288  ...         -1   \n2        2.96       873.0  2020-03-11T16:58:40    4288  ...         -1   \n3        2.94       846.0  2020-03-11T16:58:47    4288  ...         -1   \n4        2.94       846.0  2020-03-11T16:58:55    4288  ...         -1   \n...       ...         ...                  ...     ...  ...        ...   \n42054    2.54       434.0  2020-03-12T16:23:53    4288  ...       2446   \n42055    2.54       434.0  2020-03-12T16:23:54    4288  ...       2440   \n42056    2.54       434.0  2020-03-12T16:23:55    4288  ...       2447   \n42057    2.54       434.0  2020-03-12T16:23:56    4288  ...       2443   \n42058    2.54       434.0  2020-03-12T16:23:58    4288  ...       2436   \n\n        WeirPt2Y   WwRawLineMin   WwRawLineMax   WwRawLineMean  \\\n0             -1            0.0            0.0        0.000000   \n1             -1            0.0            0.0        0.000000   \n2             -1            0.0            0.0        0.000000   \n3             -1            0.0            0.0        0.000000   \n4             -1            0.0            0.0        0.000000   \n...          ...            ...            ...             ...   \n42054       1900         9284.0        77521.0    38385.370066   \n42055       1900        10092.0        74614.0    40162.989292   \n42056       1900         7067.0        83260.0    42095.946590   \n42057       1900         6283.0        83045.0    45345.490954   \n42058       1900         7375.0        89813.0    47877.870782   \n\n        WwRawLineSigma   WwCurveLineMin   WwCurveLineMax   WwCurveLineMean  \\\n0             0.000000              0.0              0.0          0.000000   \n1             0.000000              0.0              0.0          0.000000   \n2             0.000000              0.0              0.0          0.000000   \n3             0.000000              0.0              0.0          0.000000   \n4             0.000000              0.0              0.0          0.000000   \n...                ...              ...              ...               ...   \n42054     15952.029728              0.0          70085.0      37550.894823   \n42055     15467.708856              0.0          70061.0      39397.339095   \n42056     16770.357949              0.0          76335.0      41350.006568   \n42057     17498.432849              0.0          78882.0      44553.920296   \n42058     19963.166359              0.0          82630.0      47280.270559   \n\n        WwCurveLineSigma  \n0               0.000000  \n1               0.000000  \n2               0.000000  \n3               0.000000  \n4               0.000000  \n...                  ...  \n42054       16444.401209  \n42055       16009.008049  \n42056       17489.374617  \n42057       18268.294896  \n42058       20559.358767  \n\n[42059 rows x 59 columns]",
      "text/html": "<div>\n<style scoped>\n    .dataframe tbody tr th:only-of-type {\n        vertical-align: middle;\n    }\n\n    .dataframe tbody tr th {\n        vertical-align: top;\n    }\n\n    .dataframe thead th {\n        text-align: right;\n    }\n</style>\n<table border=\"1\" class=\"dataframe\">\n  <thead>\n    <tr style=\"text-align: right;\">\n      <th></th>\n      <th>SensorTime</th>\n      <th>CaptureTime</th>\n      <th>Filename</th>\n      <th>Agency</th>\n      <th>SiteNumber</th>\n      <th>TimeZone</th>\n      <th>Stage</th>\n      <th>Discharge</th>\n      <th>CalcTimestamp</th>\n      <th>width</th>\n      <th>...</th>\n      <th>WeirPt2X</th>\n      <th>WeirPt2Y</th>\n      <th>WwRawLineMin</th>\n      <th>WwRawLineMax</th>\n      <th>WwRawLineMean</th>\n      <th>WwRawLineSigma</th>\n      <th>WwCurveLineMin</th>\n      <th>WwCurveLineMax</th>\n      <th>WwCurveLineMean</th>\n      <th>WwCurveLineSigma</th>\n    </tr>\n  </thead>\n  <tbody>\n    <tr>\n      <th>0</th>\n      <td>2012-06-09 13:15:00</td>\n      <td>2012-06-09T13:09:07</td>\n      <td>StateLineWeir_20120609_Farrell_001.jpg</td>\n      <td>USGS</td>\n      <td>6674500</td>\n      <td>MDT</td>\n      <td>2.99</td>\n      <td>916.0</td>\n      <td>2020-03-11T16:58:28</td>\n      <td>4288</td>\n      <td>...</td>\n      <td>-1</td>\n      <td>-1</td>\n      <td>0.0</td>\n      <td>0.0</td>\n      <td>0.000000</td>\n      <td>0.000000</td>\n      <td>0.0</td>\n      <td>0.0</td>\n      <td>0.000000</td>\n      <td>0.000000</td>\n    </tr>\n    <tr>\n      <th>1</th>\n      <td>2012-06-09 13:15:00</td>\n      <td>2012-06-09T13:10:29</td>\n      <td>StateLineWeir_20120609_Farrell_002.jpg</td>\n      <td>USGS</td>\n      <td>6674500</td>\n      <td>MDT</td>\n      <td>2.99</td>\n      <td>916.0</td>\n      <td>2020-03-11T16:58:33</td>\n      <td>4288</td>\n      <td>...</td>\n      <td>-1</td>\n      <td>-1</td>\n      <td>0.0</td>\n      <td>0.0</td>\n      <td>0.000000</td>\n      <td>0.000000</td>\n      <td>0.0</td>\n      <td>0.0</td>\n      <td>0.000000</td>\n      <td>0.000000</td>\n    </tr>\n    <tr>\n      <th>2</th>\n      <td>2012-06-09 13:45:00</td>\n      <td>2012-06-09T13:44:01</td>\n      <td>StateLineWeir_20120609_Farrell_003.jpg</td>\n      <td>USGS</td>\n      <td>6674500</td>\n      <td>MDT</td>\n      <td>2.96</td>\n      <td>873.0</td>\n      <td>2020-03-11T16:58:40</td>\n      <td>4288</td>\n      <td>...</td>\n      <td>-1</td>\n      <td>-1</td>\n      <td>0.0</td>\n      <td>0.0</td>\n      <td>0.000000</td>\n      <td>0.000000</td>\n      <td>0.0</td>\n      <td>0.0</td>\n      <td>0.000000</td>\n      <td>0.000000</td>\n    </tr>\n    <tr>\n      <th>3</th>\n      <td>2012-06-09 14:45:00</td>\n      <td>2012-06-09T14:44:30</td>\n      <td>StateLineWeir_20120609_Farrell_004.jpg</td>\n      <td>USGS</td>\n      <td>6674500</td>\n      <td>MDT</td>\n      <td>2.94</td>\n      <td>846.0</td>\n      <td>2020-03-11T16:58:47</td>\n      <td>4288</td>\n      <td>...</td>\n      <td>-1</td>\n      <td>-1</td>\n      <td>0.0</td>\n      <td>0.0</td>\n      <td>0.000000</td>\n      <td>0.000000</td>\n      <td>0.0</td>\n      <td>0.0</td>\n      <td>0.000000</td>\n      <td>0.000000</td>\n    </tr>\n    <tr>\n      <th>4</th>\n      <td>2012-06-09 15:45:00</td>\n      <td>2012-06-09T15:44:59</td>\n      <td>StateLineWeir_20120609_Farrell_005.jpg</td>\n      <td>USGS</td>\n      <td>6674500</td>\n      <td>MDT</td>\n      <td>2.94</td>\n      <td>846.0</td>\n      <td>2020-03-11T16:58:55</td>\n      <td>4288</td>\n      <td>...</td>\n      <td>-1</td>\n      <td>-1</td>\n      <td>0.0</td>\n      <td>0.0</td>\n      <td>0.000000</td>\n      <td>0.000000</td>\n      <td>0.0</td>\n      <td>0.0</td>\n      <td>0.000000</td>\n      <td>0.000000</td>\n    </tr>\n    <tr>\n      <th>...</th>\n      <td>...</td>\n      <td>...</td>\n      <td>...</td>\n      <td>...</td>\n      <td>...</td>\n      <td>...</td>\n      <td>...</td>\n      <td>...</td>\n      <td>...</td>\n      <td>...</td>\n      <td>...</td>\n      <td>...</td>\n      <td>...</td>\n      <td>...</td>\n      <td>...</td>\n      <td>...</td>\n      <td>...</td>\n      <td>...</td>\n      <td>...</td>\n      <td>...</td>\n      <td>...</td>\n    </tr>\n    <tr>\n      <th>42054</th>\n      <td>2019-10-11 09:00:00</td>\n      <td>2019-10-11T08:59:53</td>\n      <td>StateLineWeir_20191011_Farrell_409.jpg</td>\n      <td>USGS</td>\n      <td>6674500</td>\n      <td>MDT</td>\n      <td>2.54</td>\n      <td>434.0</td>\n      <td>2020-03-12T16:23:53</td>\n      <td>4288</td>\n      <td>...</td>\n      <td>2446</td>\n      <td>1900</td>\n      <td>9284.0</td>\n      <td>77521.0</td>\n      <td>38385.370066</td>\n      <td>15952.029728</td>\n      <td>0.0</td>\n      <td>70085.0</td>\n      <td>37550.894823</td>\n      <td>16444.401209</td>\n    </tr>\n    <tr>\n      <th>42055</th>\n      <td>2019-10-11 10:00:00</td>\n      <td>2019-10-11T09:59:52</td>\n      <td>StateLineWeir_20191011_Farrell_410.jpg</td>\n      <td>USGS</td>\n      <td>6674500</td>\n      <td>MDT</td>\n      <td>2.54</td>\n      <td>434.0</td>\n      <td>2020-03-12T16:23:54</td>\n      <td>4288</td>\n      <td>...</td>\n      <td>2440</td>\n      <td>1900</td>\n      <td>10092.0</td>\n      <td>74614.0</td>\n      <td>40162.989292</td>\n      <td>15467.708856</td>\n      <td>0.0</td>\n      <td>70061.0</td>\n      <td>39397.339095</td>\n      <td>16009.008049</td>\n    </tr>\n    <tr>\n      <th>42056</th>\n      <td>2019-10-11 11:00:00</td>\n      <td>2019-10-11T10:59:52</td>\n      <td>StateLineWeir_20191011_Farrell_411.jpg</td>\n      <td>USGS</td>\n      <td>6674500</td>\n      <td>MDT</td>\n      <td>2.54</td>\n      <td>434.0</td>\n      <td>2020-03-12T16:23:55</td>\n      <td>4288</td>\n      <td>...</td>\n      <td>2447</td>\n      <td>1900</td>\n      <td>7067.0</td>\n      <td>83260.0</td>\n      <td>42095.946590</td>\n      <td>16770.357949</td>\n      <td>0.0</td>\n      <td>76335.0</td>\n      <td>41350.006568</td>\n      <td>17489.374617</td>\n    </tr>\n    <tr>\n      <th>42057</th>\n      <td>2019-10-11 12:00:00</td>\n      <td>2019-10-11T11:59:53</td>\n      <td>StateLineWeir_20191011_Farrell_412.jpg</td>\n      <td>USGS</td>\n      <td>6674500</td>\n      <td>MDT</td>\n      <td>2.54</td>\n      <td>434.0</td>\n      <td>2020-03-12T16:23:56</td>\n      <td>4288</td>\n      <td>...</td>\n      <td>2443</td>\n      <td>1900</td>\n      <td>6283.0</td>\n      <td>83045.0</td>\n      <td>45345.490954</td>\n      <td>17498.432849</td>\n      <td>0.0</td>\n      <td>78882.0</td>\n      <td>44553.920296</td>\n      <td>18268.294896</td>\n    </tr>\n    <tr>\n      <th>42058</th>\n      <td>2019-10-11 12:45:00</td>\n      <td>2019-10-11T12:59:52</td>\n      <td>StateLineWeir_20191011_Farrell_413.jpg</td>\n      <td>USGS</td>\n      <td>6674500</td>\n      <td>MDT</td>\n      <td>2.54</td>\n      <td>434.0</td>\n      <td>2020-03-12T16:23:58</td>\n      <td>4288</td>\n      <td>...</td>\n      <td>2436</td>\n      <td>1900</td>\n      <td>7375.0</td>\n      <td>89813.0</td>\n      <td>47877.870782</td>\n      <td>19963.166359</td>\n      <td>0.0</td>\n      <td>82630.0</td>\n      <td>47280.270559</td>\n      <td>20559.358767</td>\n    </tr>\n  </tbody>\n</table>\n<p>42059 rows × 59 columns</p>\n</div>"
     },
     "execution_count": 58,
     "metadata": {},
     "output_type": "execute_result"
    }
   ]
  },
  {
   "cell_type": "code",
   "source": [
    "df.columns.tolist()"
   ],
   "metadata": {
    "colab": {
     "base_uri": "https://localhost:8080/"
    },
    "id": "x4kG_Y7EOY40",
    "outputId": "44c29be6-a28b-4076-f343-0e682b142bd7"
   },
   "execution_count": 59,
   "outputs": [
    {
     "data": {
      "text/plain": "['SensorTime',\n ' CaptureTime',\n ' Filename',\n ' Agency',\n ' SiteNumber',\n ' TimeZone',\n ' Stage',\n ' Discharge',\n ' CalcTimestamp',\n ' width',\n ' height',\n ' exposure',\n ' fNumber',\n ' isoSpeed',\n ' shutterSpeed',\n ' grayMean',\n ' graySigma',\n ' entropyMean',\n ' entropySigma',\n ' hMean',\n ' hSigma',\n ' sMean',\n ' sSigma',\n ' vMean',\n ' vSigma',\n ' areaFeatCount',\n ' grayMean 0',\n ' graySigma 0',\n ' entropyMean 0',\n ' entropySigma 0',\n ' hMean 0',\n ' hSigma 0',\n ' sMean 0',\n ' sSigma 0',\n ' vMean 0',\n ' vSigma 0',\n ' grayMean 1',\n ' graySigma 1',\n ' entropyMean 1',\n ' entropySigma 1',\n ' hMean 1',\n ' hSigma 1',\n ' sMean 1',\n ' sSigma 1',\n ' vMean 1',\n ' vSigma 1',\n ' WeirAngle',\n ' WeirPt1X',\n ' WeirPt1Y',\n ' WeirPt2X',\n ' WeirPt2Y',\n ' WwRawLineMin',\n ' WwRawLineMax',\n ' WwRawLineMean',\n ' WwRawLineSigma',\n ' WwCurveLineMin',\n ' WwCurveLineMax',\n ' WwCurveLineMean',\n ' WwCurveLineSigma']"
     },
     "execution_count": 59,
     "metadata": {},
     "output_type": "execute_result"
    }
   ]
  },
  {
   "cell_type": "markdown",
   "source": [
    "\n",
    "\n",
    "* Un friego de columnas para elegir\n",
    "* Ya tienen los valores transformados con las media, mean, max y min\n"
   ],
   "metadata": {
    "id": "8W1fQG0dOprd"
   }
  },
  {
   "cell_type": "code",
   "source": [
    "df.isnull().sum()"
   ],
   "metadata": {
    "colab": {
     "base_uri": "https://localhost:8080/"
    },
    "id": "FL4PdAScNpun",
    "outputId": "7bfa91b8-649d-41e2-aa69-f1645097c7b0"
   },
   "execution_count": 60,
   "outputs": [
    {
     "data": {
      "text/plain": "SensorTime           0\n CaptureTime         0\n Filename            0\n Agency              0\n SiteNumber          0\n TimeZone            0\n Stage               0\n Discharge           0\n CalcTimestamp       0\n width               0\n height              0\n exposure            0\n fNumber             0\n isoSpeed            0\n shutterSpeed        0\n grayMean            0\n graySigma           0\n entropyMean         0\n entropySigma        0\n hMean               0\n hSigma              0\n sMean               0\n sSigma              0\n vMean               0\n vSigma              0\n areaFeatCount       0\n grayMean 0          0\n graySigma 0         0\n entropyMean 0       0\n entropySigma 0      0\n hMean 0             0\n hSigma 0            0\n sMean 0             0\n sSigma 0            0\n vMean 0             0\n vSigma 0            0\n grayMean 1          0\n graySigma 1         0\n entropyMean 1       0\n entropySigma 1      0\n hMean 1             0\n hSigma 1            0\n sMean 1             0\n sSigma 1            0\n vMean 1             0\n vSigma 1            0\n WeirAngle           0\n WeirPt1X            0\n WeirPt1Y            0\n WeirPt2X            0\n WeirPt2Y            0\n WwRawLineMin        0\n WwRawLineMax        0\n WwRawLineMean       0\n WwRawLineSigma      0\n WwCurveLineMin      0\n WwCurveLineMax      0\n WwCurveLineMean     0\n WwCurveLineSigma    0\ndtype: int64"
     },
     "execution_count": 60,
     "metadata": {},
     "output_type": "execute_result"
    }
   ]
  },
  {
   "cell_type": "markdown",
   "source": [
    "## Graficar"
   ],
   "metadata": {
    "collapsed": false
   }
  },
  {
   "cell_type": "markdown",
   "source": [
    "Gráficas para Stage"
   ],
   "metadata": {
    "collapsed": false
   }
  },
  {
   "cell_type": "code",
   "execution_count": null,
   "outputs": [],
   "source": [],
   "metadata": {
    "collapsed": false
   }
  },
  {
   "cell_type": "markdown",
   "source": [
    "Gráficas para Discharge"
   ],
   "metadata": {
    "collapsed": false
   }
  },
  {
   "cell_type": "code",
   "execution_count": null,
   "outputs": [],
   "source": [],
   "metadata": {
    "collapsed": false
   }
  },
  {
   "cell_type": "markdown",
   "source": [
    "Modelos"
   ],
   "metadata": {
    "collapsed": false
   }
  },
  {
   "cell_type": "code",
   "execution_count": 89,
   "outputs": [],
   "source": [
    "# definir variables dependientes y e independientes X\n",
    "\n",
    "# X = pd.DataFrame(df[['???']].values)\n",
    "# y = pd.DataFrame(df[[' Stage', ' Discharge']].values)\n"
   ],
   "metadata": {
    "collapsed": false
   }
  },
  {
   "cell_type": "code",
   "source": [
    "from sklearn.model_selection import train_test_split\n",
    "\n",
    "x_train, x_test, y_train, y_test = train_test_split(X, y, test_size=0.3)\n",
    "x_test, x_val, y_test, y_val = train_test_split(x_test, y_test, test_size=0.5)"
   ],
   "metadata": {
    "id": "Y_benTqBgzni"
   },
   "execution_count": null,
   "outputs": []
  }
 ]
}
