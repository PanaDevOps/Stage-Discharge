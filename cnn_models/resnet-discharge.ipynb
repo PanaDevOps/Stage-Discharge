{
 "cells": [
  {
   "cell_type": "code",
   "execution_count": 5,
   "metadata": {
    "colab": {
     "base_uri": "https://localhost:8080/"
    },
    "id": "iyMcm0UmHR3A",
    "outputId": "a3a94970-293a-4bbc-efb1-93cb2ff0809d"
   },
   "outputs": [
    {
     "name": "stdout",
     "output_type": "stream",
     "text": [
      "\u001b[33mWARNING: The directory '/.cache/pip' or its parent directory is not owned or is not writable by the current user. The cache has been disabled. Check the permissions and owner of that directory. If executing pip with sudo, you may want sudo's -H flag.\u001b[0m\n",
      "Collecting scikit-learn\n",
      "  Downloading scikit_learn-1.1.3-cp38-cp38-manylinux_2_17_x86_64.manylinux2014_x86_64.whl (31.2 MB)\n",
      "\u001b[K     |████████████████████████████████| 31.2 MB 9.0 MB/s eta 0:00:01\n",
      "\u001b[?25hCollecting scipy>=1.3.2\n",
      "  Downloading scipy-1.9.3-cp38-cp38-manylinux_2_17_x86_64.manylinux2014_x86_64.whl (33.8 MB)\n",
      "\u001b[K     |████████████████████████████████| 33.8 MB 9.0 MB/s eta 0:00:01\n",
      "\u001b[?25hCollecting joblib>=1.0.0\n",
      "  Downloading joblib-1.2.0-py3-none-any.whl (297 kB)\n",
      "\u001b[K     |████████████████████████████████| 297 kB 4.6 MB/s eta 0:00:01\n",
      "\u001b[?25hRequirement already satisfied: numpy>=1.17.3 in /usr/local/lib/python3.8/dist-packages (from scikit-learn) (1.23.4)\n",
      "Collecting threadpoolctl>=2.0.0\n",
      "  Downloading threadpoolctl-3.1.0-py3-none-any.whl (14 kB)\n",
      "Installing collected packages: scipy, joblib, threadpoolctl, scikit-learn\n",
      "Successfully installed joblib-1.2.0 scikit-learn-1.1.3 scipy-1.9.3 threadpoolctl-3.1.0\n",
      "\u001b[33mWARNING: You are using pip version 20.2.4; however, version 22.3.1 is available.\n",
      "You should consider upgrading via the '/usr/bin/python3 -m pip install --upgrade pip' command.\u001b[0m\n",
      "Note: you may need to restart the kernel to use updated packages.\n"
     ]
    }
   ],
   "source": [
    "pip install scikit-learn --user"
   ]
  },
  {
   "cell_type": "code",
   "execution_count": 1,
   "metadata": {
    "id": "zK08ogQBLCTH"
   },
   "outputs": [
    {
     "name": "stderr",
     "output_type": "stream",
     "text": [
      "Matplotlib created a temporary config/cache directory at /tmp/matplotlib-13njqcae because the default path (/.config/matplotlib) is not a writable directory; it is highly recommended to set the MPLCONFIGDIR environment variable to a writable directory, in particular to speed up the import of Matplotlib and to better support multiprocessing.\n"
     ]
    }
   ],
   "source": [
    "import keras\n",
    "from tensorflow.keras.preprocessing.image import ImageDataGenerator\n",
    "from tensorflow.keras.applications import EfficientNetB0\n",
    "import tensorflow as tf\n",
    "import pandas as pd\n",
    "import numpy as np\n",
    "import matplotlib.pyplot as plt\n",
    "import seaborn as sns\n",
    "from keras.models import Sequential\n",
    "from keras.layers import Dense, Flatten, Rescaling, RandomFlip, RandomRotation\n",
    "from keras.layers import Conv2D, MaxPooling2D\n",
    "from keras.optimizers import SGD\n",
    "from tensorflow.keras import layers, models, Model\n",
    "from sklearn.metrics import r2_score"
   ]
  },
  {
   "cell_type": "code",
   "execution_count": 2,
   "metadata": {
    "id": "ky5ZnbJjKiqZ"
   },
   "outputs": [],
   "source": [
    "url = './preprocess_image_resize'"
   ]
  },
  {
   "cell_type": "code",
   "execution_count": 3,
   "metadata": {
    "id": "09NsWWctKs5c"
   },
   "outputs": [],
   "source": [
    "generator = ImageDataGenerator(\n",
    "    rescale= 1. / 255\n",
    ")"
   ]
  },
  {
   "cell_type": "code",
   "execution_count": 4,
   "metadata": {
    "colab": {
     "base_uri": "https://localhost:8080/",
     "height": 386
    },
    "id": "Ci4ipLhML9HI",
    "outputId": "9972e144-9dbf-47bf-b28d-0acf61d1b647"
   },
   "outputs": [
    {
     "data": {
      "text/html": [
       "<div>\n",
       "<style scoped>\n",
       "    .dataframe tbody tr th:only-of-type {\n",
       "        vertical-align: middle;\n",
       "    }\n",
       "\n",
       "    .dataframe tbody tr th {\n",
       "        vertical-align: top;\n",
       "    }\n",
       "\n",
       "    .dataframe thead th {\n",
       "        text-align: right;\n",
       "    }\n",
       "</style>\n",
       "<table border=\"1\" class=\"dataframe\">\n",
       "  <thead>\n",
       "    <tr style=\"text-align: right;\">\n",
       "      <th></th>\n",
       "      <th>SensorTime</th>\n",
       "      <th>CaptureTime</th>\n",
       "      <th>Filename</th>\n",
       "      <th>Agency</th>\n",
       "      <th>SiteNumber</th>\n",
       "      <th>TimeZone</th>\n",
       "      <th>Stage</th>\n",
       "      <th>Discharge</th>\n",
       "      <th>CalcTimestamp</th>\n",
       "      <th>width</th>\n",
       "      <th>...</th>\n",
       "      <th>WeirPt2X</th>\n",
       "      <th>WeirPt2Y</th>\n",
       "      <th>WwRawLineMin</th>\n",
       "      <th>WwRawLineMax</th>\n",
       "      <th>WwRawLineMean</th>\n",
       "      <th>WwRawLineSigma</th>\n",
       "      <th>WwCurveLineMin</th>\n",
       "      <th>WwCurveLineMax</th>\n",
       "      <th>WwCurveLineMean</th>\n",
       "      <th>WwCurveLineSigma</th>\n",
       "    </tr>\n",
       "  </thead>\n",
       "  <tbody>\n",
       "    <tr>\n",
       "      <th>0</th>\n",
       "      <td>2012-06-09 13:15:00</td>\n",
       "      <td>2012-06-09T13:09:07</td>\n",
       "      <td>StateLineWeir_20120609_Farrell_001.jpg</td>\n",
       "      <td>USGS</td>\n",
       "      <td>6674500</td>\n",
       "      <td>MDT</td>\n",
       "      <td>2.99</td>\n",
       "      <td>916.0</td>\n",
       "      <td>2020-03-11T16:58:28</td>\n",
       "      <td>4288</td>\n",
       "      <td>...</td>\n",
       "      <td>-1</td>\n",
       "      <td>-1</td>\n",
       "      <td>0.0</td>\n",
       "      <td>0.0</td>\n",
       "      <td>0.0</td>\n",
       "      <td>0.0</td>\n",
       "      <td>0.0</td>\n",
       "      <td>0.0</td>\n",
       "      <td>0.0</td>\n",
       "      <td>0.0</td>\n",
       "    </tr>\n",
       "    <tr>\n",
       "      <th>1</th>\n",
       "      <td>2012-06-09 13:15:00</td>\n",
       "      <td>2012-06-09T13:10:29</td>\n",
       "      <td>StateLineWeir_20120609_Farrell_002.jpg</td>\n",
       "      <td>USGS</td>\n",
       "      <td>6674500</td>\n",
       "      <td>MDT</td>\n",
       "      <td>2.99</td>\n",
       "      <td>916.0</td>\n",
       "      <td>2020-03-11T16:58:33</td>\n",
       "      <td>4288</td>\n",
       "      <td>...</td>\n",
       "      <td>-1</td>\n",
       "      <td>-1</td>\n",
       "      <td>0.0</td>\n",
       "      <td>0.0</td>\n",
       "      <td>0.0</td>\n",
       "      <td>0.0</td>\n",
       "      <td>0.0</td>\n",
       "      <td>0.0</td>\n",
       "      <td>0.0</td>\n",
       "      <td>0.0</td>\n",
       "    </tr>\n",
       "    <tr>\n",
       "      <th>2</th>\n",
       "      <td>2012-06-09 13:45:00</td>\n",
       "      <td>2012-06-09T13:44:01</td>\n",
       "      <td>StateLineWeir_20120609_Farrell_003.jpg</td>\n",
       "      <td>USGS</td>\n",
       "      <td>6674500</td>\n",
       "      <td>MDT</td>\n",
       "      <td>2.96</td>\n",
       "      <td>873.0</td>\n",
       "      <td>2020-03-11T16:58:40</td>\n",
       "      <td>4288</td>\n",
       "      <td>...</td>\n",
       "      <td>-1</td>\n",
       "      <td>-1</td>\n",
       "      <td>0.0</td>\n",
       "      <td>0.0</td>\n",
       "      <td>0.0</td>\n",
       "      <td>0.0</td>\n",
       "      <td>0.0</td>\n",
       "      <td>0.0</td>\n",
       "      <td>0.0</td>\n",
       "      <td>0.0</td>\n",
       "    </tr>\n",
       "    <tr>\n",
       "      <th>3</th>\n",
       "      <td>2012-06-09 14:45:00</td>\n",
       "      <td>2012-06-09T14:44:30</td>\n",
       "      <td>StateLineWeir_20120609_Farrell_004.jpg</td>\n",
       "      <td>USGS</td>\n",
       "      <td>6674500</td>\n",
       "      <td>MDT</td>\n",
       "      <td>2.94</td>\n",
       "      <td>846.0</td>\n",
       "      <td>2020-03-11T16:58:47</td>\n",
       "      <td>4288</td>\n",
       "      <td>...</td>\n",
       "      <td>-1</td>\n",
       "      <td>-1</td>\n",
       "      <td>0.0</td>\n",
       "      <td>0.0</td>\n",
       "      <td>0.0</td>\n",
       "      <td>0.0</td>\n",
       "      <td>0.0</td>\n",
       "      <td>0.0</td>\n",
       "      <td>0.0</td>\n",
       "      <td>0.0</td>\n",
       "    </tr>\n",
       "    <tr>\n",
       "      <th>4</th>\n",
       "      <td>2012-06-09 15:45:00</td>\n",
       "      <td>2012-06-09T15:44:59</td>\n",
       "      <td>StateLineWeir_20120609_Farrell_005.jpg</td>\n",
       "      <td>USGS</td>\n",
       "      <td>6674500</td>\n",
       "      <td>MDT</td>\n",
       "      <td>2.94</td>\n",
       "      <td>846.0</td>\n",
       "      <td>2020-03-11T16:58:55</td>\n",
       "      <td>4288</td>\n",
       "      <td>...</td>\n",
       "      <td>-1</td>\n",
       "      <td>-1</td>\n",
       "      <td>0.0</td>\n",
       "      <td>0.0</td>\n",
       "      <td>0.0</td>\n",
       "      <td>0.0</td>\n",
       "      <td>0.0</td>\n",
       "      <td>0.0</td>\n",
       "      <td>0.0</td>\n",
       "      <td>0.0</td>\n",
       "    </tr>\n",
       "  </tbody>\n",
       "</table>\n",
       "<p>5 rows × 59 columns</p>\n",
       "</div>"
      ],
      "text/plain": [
       "            SensorTime          CaptureTime  \\\n",
       "0  2012-06-09 13:15:00  2012-06-09T13:09:07   \n",
       "1  2012-06-09 13:15:00  2012-06-09T13:10:29   \n",
       "2  2012-06-09 13:45:00  2012-06-09T13:44:01   \n",
       "3  2012-06-09 14:45:00  2012-06-09T14:44:30   \n",
       "4  2012-06-09 15:45:00  2012-06-09T15:44:59   \n",
       "\n",
       "                                 Filename  Agency   SiteNumber  TimeZone  \\\n",
       "0  StateLineWeir_20120609_Farrell_001.jpg    USGS      6674500       MDT   \n",
       "1  StateLineWeir_20120609_Farrell_002.jpg    USGS      6674500       MDT   \n",
       "2  StateLineWeir_20120609_Farrell_003.jpg    USGS      6674500       MDT   \n",
       "3  StateLineWeir_20120609_Farrell_004.jpg    USGS      6674500       MDT   \n",
       "4  StateLineWeir_20120609_Farrell_005.jpg    USGS      6674500       MDT   \n",
       "\n",
       "    Stage   Discharge        CalcTimestamp   width  ...   WeirPt2X   WeirPt2Y  \\\n",
       "0    2.99       916.0  2020-03-11T16:58:28    4288  ...         -1         -1   \n",
       "1    2.99       916.0  2020-03-11T16:58:33    4288  ...         -1         -1   \n",
       "2    2.96       873.0  2020-03-11T16:58:40    4288  ...         -1         -1   \n",
       "3    2.94       846.0  2020-03-11T16:58:47    4288  ...         -1         -1   \n",
       "4    2.94       846.0  2020-03-11T16:58:55    4288  ...         -1         -1   \n",
       "\n",
       "    WwRawLineMin   WwRawLineMax   WwRawLineMean   WwRawLineSigma  \\\n",
       "0            0.0            0.0             0.0              0.0   \n",
       "1            0.0            0.0             0.0              0.0   \n",
       "2            0.0            0.0             0.0              0.0   \n",
       "3            0.0            0.0             0.0              0.0   \n",
       "4            0.0            0.0             0.0              0.0   \n",
       "\n",
       "    WwCurveLineMin   WwCurveLineMax   WwCurveLineMean   WwCurveLineSigma  \n",
       "0              0.0              0.0               0.0                0.0  \n",
       "1              0.0              0.0               0.0                0.0  \n",
       "2              0.0              0.0               0.0                0.0  \n",
       "3              0.0              0.0               0.0                0.0  \n",
       "4              0.0              0.0               0.0                0.0  \n",
       "\n",
       "[5 rows x 59 columns]"
      ]
     },
     "execution_count": 4,
     "metadata": {},
     "output_type": "execute_result"
    }
   ],
   "source": [
    "url2 = './2012_2019_PlatteRiverWeir_features_merged_all.csv'\n",
    "df = pd.read_csv(url2)\n",
    "df.head()"
   ]
  },
  {
   "cell_type": "code",
   "execution_count": null,
   "metadata": {
    "id": "8NC0Dc0_L9KL"
   },
   "outputs": [],
   "source": []
  },
  {
   "cell_type": "code",
   "execution_count": 5,
   "metadata": {
    "id": "IkdCREWcM3EA"
   },
   "outputs": [],
   "source": [
    "df[' Filename'] = './preprocess_image_resize/' + df[' Filename'].astype(str)"
   ]
  },
  {
   "cell_type": "code",
   "execution_count": 6,
   "metadata": {
    "colab": {
     "base_uri": "https://localhost:8080/",
     "height": 386
    },
    "id": "C6og26EmTdHP",
    "outputId": "14865038-76dd-4f39-84cf-63ca49ab8d3a"
   },
   "outputs": [
    {
     "data": {
      "text/html": [
       "<div>\n",
       "<style scoped>\n",
       "    .dataframe tbody tr th:only-of-type {\n",
       "        vertical-align: middle;\n",
       "    }\n",
       "\n",
       "    .dataframe tbody tr th {\n",
       "        vertical-align: top;\n",
       "    }\n",
       "\n",
       "    .dataframe thead th {\n",
       "        text-align: right;\n",
       "    }\n",
       "</style>\n",
       "<table border=\"1\" class=\"dataframe\">\n",
       "  <thead>\n",
       "    <tr style=\"text-align: right;\">\n",
       "      <th></th>\n",
       "      <th>SensorTime</th>\n",
       "      <th>CaptureTime</th>\n",
       "      <th>Filename</th>\n",
       "      <th>Agency</th>\n",
       "      <th>SiteNumber</th>\n",
       "      <th>TimeZone</th>\n",
       "      <th>Stage</th>\n",
       "      <th>Discharge</th>\n",
       "      <th>CalcTimestamp</th>\n",
       "      <th>width</th>\n",
       "      <th>...</th>\n",
       "      <th>WeirPt2X</th>\n",
       "      <th>WeirPt2Y</th>\n",
       "      <th>WwRawLineMin</th>\n",
       "      <th>WwRawLineMax</th>\n",
       "      <th>WwRawLineMean</th>\n",
       "      <th>WwRawLineSigma</th>\n",
       "      <th>WwCurveLineMin</th>\n",
       "      <th>WwCurveLineMax</th>\n",
       "      <th>WwCurveLineMean</th>\n",
       "      <th>WwCurveLineSigma</th>\n",
       "    </tr>\n",
       "  </thead>\n",
       "  <tbody>\n",
       "    <tr>\n",
       "      <th>0</th>\n",
       "      <td>2012-06-09 13:15:00</td>\n",
       "      <td>2012-06-09T13:09:07</td>\n",
       "      <td>./preprocess_image_resize/StateLineWeir_201206...</td>\n",
       "      <td>USGS</td>\n",
       "      <td>6674500</td>\n",
       "      <td>MDT</td>\n",
       "      <td>2.99</td>\n",
       "      <td>916.0</td>\n",
       "      <td>2020-03-11T16:58:28</td>\n",
       "      <td>4288</td>\n",
       "      <td>...</td>\n",
       "      <td>-1</td>\n",
       "      <td>-1</td>\n",
       "      <td>0.0</td>\n",
       "      <td>0.0</td>\n",
       "      <td>0.0</td>\n",
       "      <td>0.0</td>\n",
       "      <td>0.0</td>\n",
       "      <td>0.0</td>\n",
       "      <td>0.0</td>\n",
       "      <td>0.0</td>\n",
       "    </tr>\n",
       "    <tr>\n",
       "      <th>1</th>\n",
       "      <td>2012-06-09 13:15:00</td>\n",
       "      <td>2012-06-09T13:10:29</td>\n",
       "      <td>./preprocess_image_resize/StateLineWeir_201206...</td>\n",
       "      <td>USGS</td>\n",
       "      <td>6674500</td>\n",
       "      <td>MDT</td>\n",
       "      <td>2.99</td>\n",
       "      <td>916.0</td>\n",
       "      <td>2020-03-11T16:58:33</td>\n",
       "      <td>4288</td>\n",
       "      <td>...</td>\n",
       "      <td>-1</td>\n",
       "      <td>-1</td>\n",
       "      <td>0.0</td>\n",
       "      <td>0.0</td>\n",
       "      <td>0.0</td>\n",
       "      <td>0.0</td>\n",
       "      <td>0.0</td>\n",
       "      <td>0.0</td>\n",
       "      <td>0.0</td>\n",
       "      <td>0.0</td>\n",
       "    </tr>\n",
       "    <tr>\n",
       "      <th>2</th>\n",
       "      <td>2012-06-09 13:45:00</td>\n",
       "      <td>2012-06-09T13:44:01</td>\n",
       "      <td>./preprocess_image_resize/StateLineWeir_201206...</td>\n",
       "      <td>USGS</td>\n",
       "      <td>6674500</td>\n",
       "      <td>MDT</td>\n",
       "      <td>2.96</td>\n",
       "      <td>873.0</td>\n",
       "      <td>2020-03-11T16:58:40</td>\n",
       "      <td>4288</td>\n",
       "      <td>...</td>\n",
       "      <td>-1</td>\n",
       "      <td>-1</td>\n",
       "      <td>0.0</td>\n",
       "      <td>0.0</td>\n",
       "      <td>0.0</td>\n",
       "      <td>0.0</td>\n",
       "      <td>0.0</td>\n",
       "      <td>0.0</td>\n",
       "      <td>0.0</td>\n",
       "      <td>0.0</td>\n",
       "    </tr>\n",
       "    <tr>\n",
       "      <th>3</th>\n",
       "      <td>2012-06-09 14:45:00</td>\n",
       "      <td>2012-06-09T14:44:30</td>\n",
       "      <td>./preprocess_image_resize/StateLineWeir_201206...</td>\n",
       "      <td>USGS</td>\n",
       "      <td>6674500</td>\n",
       "      <td>MDT</td>\n",
       "      <td>2.94</td>\n",
       "      <td>846.0</td>\n",
       "      <td>2020-03-11T16:58:47</td>\n",
       "      <td>4288</td>\n",
       "      <td>...</td>\n",
       "      <td>-1</td>\n",
       "      <td>-1</td>\n",
       "      <td>0.0</td>\n",
       "      <td>0.0</td>\n",
       "      <td>0.0</td>\n",
       "      <td>0.0</td>\n",
       "      <td>0.0</td>\n",
       "      <td>0.0</td>\n",
       "      <td>0.0</td>\n",
       "      <td>0.0</td>\n",
       "    </tr>\n",
       "    <tr>\n",
       "      <th>4</th>\n",
       "      <td>2012-06-09 15:45:00</td>\n",
       "      <td>2012-06-09T15:44:59</td>\n",
       "      <td>./preprocess_image_resize/StateLineWeir_201206...</td>\n",
       "      <td>USGS</td>\n",
       "      <td>6674500</td>\n",
       "      <td>MDT</td>\n",
       "      <td>2.94</td>\n",
       "      <td>846.0</td>\n",
       "      <td>2020-03-11T16:58:55</td>\n",
       "      <td>4288</td>\n",
       "      <td>...</td>\n",
       "      <td>-1</td>\n",
       "      <td>-1</td>\n",
       "      <td>0.0</td>\n",
       "      <td>0.0</td>\n",
       "      <td>0.0</td>\n",
       "      <td>0.0</td>\n",
       "      <td>0.0</td>\n",
       "      <td>0.0</td>\n",
       "      <td>0.0</td>\n",
       "      <td>0.0</td>\n",
       "    </tr>\n",
       "  </tbody>\n",
       "</table>\n",
       "<p>5 rows × 59 columns</p>\n",
       "</div>"
      ],
      "text/plain": [
       "            SensorTime          CaptureTime  \\\n",
       "0  2012-06-09 13:15:00  2012-06-09T13:09:07   \n",
       "1  2012-06-09 13:15:00  2012-06-09T13:10:29   \n",
       "2  2012-06-09 13:45:00  2012-06-09T13:44:01   \n",
       "3  2012-06-09 14:45:00  2012-06-09T14:44:30   \n",
       "4  2012-06-09 15:45:00  2012-06-09T15:44:59   \n",
       "\n",
       "                                            Filename  Agency   SiteNumber  \\\n",
       "0  ./preprocess_image_resize/StateLineWeir_201206...    USGS      6674500   \n",
       "1  ./preprocess_image_resize/StateLineWeir_201206...    USGS      6674500   \n",
       "2  ./preprocess_image_resize/StateLineWeir_201206...    USGS      6674500   \n",
       "3  ./preprocess_image_resize/StateLineWeir_201206...    USGS      6674500   \n",
       "4  ./preprocess_image_resize/StateLineWeir_201206...    USGS      6674500   \n",
       "\n",
       "   TimeZone   Stage   Discharge        CalcTimestamp   width  ...   WeirPt2X  \\\n",
       "0       MDT    2.99       916.0  2020-03-11T16:58:28    4288  ...         -1   \n",
       "1       MDT    2.99       916.0  2020-03-11T16:58:33    4288  ...         -1   \n",
       "2       MDT    2.96       873.0  2020-03-11T16:58:40    4288  ...         -1   \n",
       "3       MDT    2.94       846.0  2020-03-11T16:58:47    4288  ...         -1   \n",
       "4       MDT    2.94       846.0  2020-03-11T16:58:55    4288  ...         -1   \n",
       "\n",
       "    WeirPt2Y   WwRawLineMin   WwRawLineMax   WwRawLineMean   WwRawLineSigma  \\\n",
       "0         -1            0.0            0.0             0.0              0.0   \n",
       "1         -1            0.0            0.0             0.0              0.0   \n",
       "2         -1            0.0            0.0             0.0              0.0   \n",
       "3         -1            0.0            0.0             0.0              0.0   \n",
       "4         -1            0.0            0.0             0.0              0.0   \n",
       "\n",
       "    WwCurveLineMin   WwCurveLineMax   WwCurveLineMean   WwCurveLineSigma  \n",
       "0              0.0              0.0               0.0                0.0  \n",
       "1              0.0              0.0               0.0                0.0  \n",
       "2              0.0              0.0               0.0                0.0  \n",
       "3              0.0              0.0               0.0                0.0  \n",
       "4              0.0              0.0               0.0                0.0  \n",
       "\n",
       "[5 rows x 59 columns]"
      ]
     },
     "execution_count": 6,
     "metadata": {},
     "output_type": "execute_result"
    }
   ],
   "source": [
    "df.head()"
   ]
  },
  {
   "cell_type": "code",
   "execution_count": 7,
   "metadata": {
    "id": "vgUo5V05TdOe"
   },
   "outputs": [],
   "source": [
    "dfTrain = df"
   ]
  },
  {
   "cell_type": "code",
   "execution_count": 8,
   "metadata": {
    "id": "0o9DXLf4LTzc"
   },
   "outputs": [],
   "source": [
    "df['Year'] = df[' CaptureTime'].str.slice(0, 4)"
   ]
  },
  {
   "cell_type": "code",
   "execution_count": 9,
   "metadata": {
    "colab": {
     "base_uri": "https://localhost:8080/",
     "height": 386
    },
    "id": "qRRXIEkcGe0i",
    "outputId": "740768b6-d3d3-447c-8629-430ed190cdf0"
   },
   "outputs": [
    {
     "data": {
      "text/html": [
       "<div>\n",
       "<style scoped>\n",
       "    .dataframe tbody tr th:only-of-type {\n",
       "        vertical-align: middle;\n",
       "    }\n",
       "\n",
       "    .dataframe tbody tr th {\n",
       "        vertical-align: top;\n",
       "    }\n",
       "\n",
       "    .dataframe thead th {\n",
       "        text-align: right;\n",
       "    }\n",
       "</style>\n",
       "<table border=\"1\" class=\"dataframe\">\n",
       "  <thead>\n",
       "    <tr style=\"text-align: right;\">\n",
       "      <th></th>\n",
       "      <th>SensorTime</th>\n",
       "      <th>CaptureTime</th>\n",
       "      <th>Filename</th>\n",
       "      <th>Agency</th>\n",
       "      <th>SiteNumber</th>\n",
       "      <th>TimeZone</th>\n",
       "      <th>Stage</th>\n",
       "      <th>Discharge</th>\n",
       "      <th>CalcTimestamp</th>\n",
       "      <th>width</th>\n",
       "      <th>...</th>\n",
       "      <th>WeirPt2Y</th>\n",
       "      <th>WwRawLineMin</th>\n",
       "      <th>WwRawLineMax</th>\n",
       "      <th>WwRawLineMean</th>\n",
       "      <th>WwRawLineSigma</th>\n",
       "      <th>WwCurveLineMin</th>\n",
       "      <th>WwCurveLineMax</th>\n",
       "      <th>WwCurveLineMean</th>\n",
       "      <th>WwCurveLineSigma</th>\n",
       "      <th>Year</th>\n",
       "    </tr>\n",
       "  </thead>\n",
       "  <tbody>\n",
       "    <tr>\n",
       "      <th>0</th>\n",
       "      <td>2012-06-09 13:15:00</td>\n",
       "      <td>2012-06-09T13:09:07</td>\n",
       "      <td>./preprocess_image_resize/StateLineWeir_201206...</td>\n",
       "      <td>USGS</td>\n",
       "      <td>6674500</td>\n",
       "      <td>MDT</td>\n",
       "      <td>2.99</td>\n",
       "      <td>916.0</td>\n",
       "      <td>2020-03-11T16:58:28</td>\n",
       "      <td>4288</td>\n",
       "      <td>...</td>\n",
       "      <td>-1</td>\n",
       "      <td>0.0</td>\n",
       "      <td>0.0</td>\n",
       "      <td>0.0</td>\n",
       "      <td>0.0</td>\n",
       "      <td>0.0</td>\n",
       "      <td>0.0</td>\n",
       "      <td>0.0</td>\n",
       "      <td>0.0</td>\n",
       "      <td>2012</td>\n",
       "    </tr>\n",
       "    <tr>\n",
       "      <th>1</th>\n",
       "      <td>2012-06-09 13:15:00</td>\n",
       "      <td>2012-06-09T13:10:29</td>\n",
       "      <td>./preprocess_image_resize/StateLineWeir_201206...</td>\n",
       "      <td>USGS</td>\n",
       "      <td>6674500</td>\n",
       "      <td>MDT</td>\n",
       "      <td>2.99</td>\n",
       "      <td>916.0</td>\n",
       "      <td>2020-03-11T16:58:33</td>\n",
       "      <td>4288</td>\n",
       "      <td>...</td>\n",
       "      <td>-1</td>\n",
       "      <td>0.0</td>\n",
       "      <td>0.0</td>\n",
       "      <td>0.0</td>\n",
       "      <td>0.0</td>\n",
       "      <td>0.0</td>\n",
       "      <td>0.0</td>\n",
       "      <td>0.0</td>\n",
       "      <td>0.0</td>\n",
       "      <td>2012</td>\n",
       "    </tr>\n",
       "    <tr>\n",
       "      <th>2</th>\n",
       "      <td>2012-06-09 13:45:00</td>\n",
       "      <td>2012-06-09T13:44:01</td>\n",
       "      <td>./preprocess_image_resize/StateLineWeir_201206...</td>\n",
       "      <td>USGS</td>\n",
       "      <td>6674500</td>\n",
       "      <td>MDT</td>\n",
       "      <td>2.96</td>\n",
       "      <td>873.0</td>\n",
       "      <td>2020-03-11T16:58:40</td>\n",
       "      <td>4288</td>\n",
       "      <td>...</td>\n",
       "      <td>-1</td>\n",
       "      <td>0.0</td>\n",
       "      <td>0.0</td>\n",
       "      <td>0.0</td>\n",
       "      <td>0.0</td>\n",
       "      <td>0.0</td>\n",
       "      <td>0.0</td>\n",
       "      <td>0.0</td>\n",
       "      <td>0.0</td>\n",
       "      <td>2012</td>\n",
       "    </tr>\n",
       "    <tr>\n",
       "      <th>3</th>\n",
       "      <td>2012-06-09 14:45:00</td>\n",
       "      <td>2012-06-09T14:44:30</td>\n",
       "      <td>./preprocess_image_resize/StateLineWeir_201206...</td>\n",
       "      <td>USGS</td>\n",
       "      <td>6674500</td>\n",
       "      <td>MDT</td>\n",
       "      <td>2.94</td>\n",
       "      <td>846.0</td>\n",
       "      <td>2020-03-11T16:58:47</td>\n",
       "      <td>4288</td>\n",
       "      <td>...</td>\n",
       "      <td>-1</td>\n",
       "      <td>0.0</td>\n",
       "      <td>0.0</td>\n",
       "      <td>0.0</td>\n",
       "      <td>0.0</td>\n",
       "      <td>0.0</td>\n",
       "      <td>0.0</td>\n",
       "      <td>0.0</td>\n",
       "      <td>0.0</td>\n",
       "      <td>2012</td>\n",
       "    </tr>\n",
       "    <tr>\n",
       "      <th>4</th>\n",
       "      <td>2012-06-09 15:45:00</td>\n",
       "      <td>2012-06-09T15:44:59</td>\n",
       "      <td>./preprocess_image_resize/StateLineWeir_201206...</td>\n",
       "      <td>USGS</td>\n",
       "      <td>6674500</td>\n",
       "      <td>MDT</td>\n",
       "      <td>2.94</td>\n",
       "      <td>846.0</td>\n",
       "      <td>2020-03-11T16:58:55</td>\n",
       "      <td>4288</td>\n",
       "      <td>...</td>\n",
       "      <td>-1</td>\n",
       "      <td>0.0</td>\n",
       "      <td>0.0</td>\n",
       "      <td>0.0</td>\n",
       "      <td>0.0</td>\n",
       "      <td>0.0</td>\n",
       "      <td>0.0</td>\n",
       "      <td>0.0</td>\n",
       "      <td>0.0</td>\n",
       "      <td>2012</td>\n",
       "    </tr>\n",
       "  </tbody>\n",
       "</table>\n",
       "<p>5 rows × 60 columns</p>\n",
       "</div>"
      ],
      "text/plain": [
       "            SensorTime          CaptureTime  \\\n",
       "0  2012-06-09 13:15:00  2012-06-09T13:09:07   \n",
       "1  2012-06-09 13:15:00  2012-06-09T13:10:29   \n",
       "2  2012-06-09 13:45:00  2012-06-09T13:44:01   \n",
       "3  2012-06-09 14:45:00  2012-06-09T14:44:30   \n",
       "4  2012-06-09 15:45:00  2012-06-09T15:44:59   \n",
       "\n",
       "                                            Filename  Agency   SiteNumber  \\\n",
       "0  ./preprocess_image_resize/StateLineWeir_201206...    USGS      6674500   \n",
       "1  ./preprocess_image_resize/StateLineWeir_201206...    USGS      6674500   \n",
       "2  ./preprocess_image_resize/StateLineWeir_201206...    USGS      6674500   \n",
       "3  ./preprocess_image_resize/StateLineWeir_201206...    USGS      6674500   \n",
       "4  ./preprocess_image_resize/StateLineWeir_201206...    USGS      6674500   \n",
       "\n",
       "   TimeZone   Stage   Discharge        CalcTimestamp   width  ...   WeirPt2Y  \\\n",
       "0       MDT    2.99       916.0  2020-03-11T16:58:28    4288  ...         -1   \n",
       "1       MDT    2.99       916.0  2020-03-11T16:58:33    4288  ...         -1   \n",
       "2       MDT    2.96       873.0  2020-03-11T16:58:40    4288  ...         -1   \n",
       "3       MDT    2.94       846.0  2020-03-11T16:58:47    4288  ...         -1   \n",
       "4       MDT    2.94       846.0  2020-03-11T16:58:55    4288  ...         -1   \n",
       "\n",
       "    WwRawLineMin   WwRawLineMax   WwRawLineMean   WwRawLineSigma  \\\n",
       "0            0.0            0.0             0.0              0.0   \n",
       "1            0.0            0.0             0.0              0.0   \n",
       "2            0.0            0.0             0.0              0.0   \n",
       "3            0.0            0.0             0.0              0.0   \n",
       "4            0.0            0.0             0.0              0.0   \n",
       "\n",
       "    WwCurveLineMin   WwCurveLineMax   WwCurveLineMean   WwCurveLineSigma  Year  \n",
       "0              0.0              0.0               0.0                0.0  2012  \n",
       "1              0.0              0.0               0.0                0.0  2012  \n",
       "2              0.0              0.0               0.0                0.0  2012  \n",
       "3              0.0              0.0               0.0                0.0  2012  \n",
       "4              0.0              0.0               0.0                0.0  2012  \n",
       "\n",
       "[5 rows x 60 columns]"
      ]
     },
     "execution_count": 9,
     "metadata": {},
     "output_type": "execute_result"
    }
   ],
   "source": [
    "df.head()"
   ]
  },
  {
   "cell_type": "code",
   "execution_count": 10,
   "metadata": {
    "id": "yCml1XwnGe0i"
   },
   "outputs": [],
   "source": [
    "dfTrain = df[df['Year'] != '2015']"
   ]
  },
  {
   "cell_type": "code",
   "execution_count": 11,
   "metadata": {
    "id": "DBUQdgPvGe0i"
   },
   "outputs": [],
   "source": [
    "dfTrain = dfTrain[dfTrain['Year'] != '2016']"
   ]
  },
  {
   "cell_type": "code",
   "execution_count": 12,
   "metadata": {},
   "outputs": [],
   "source": [
    "dfTrain = dfTrain[dfTrain['Year'] != '2017']"
   ]
  },
  {
   "cell_type": "code",
   "execution_count": 13,
   "metadata": {},
   "outputs": [],
   "source": [
    "dfTest = df[df['Year'] <= '2017']"
   ]
  },
  {
   "cell_type": "code",
   "execution_count": 14,
   "metadata": {},
   "outputs": [],
   "source": [
    "dfTest = dfTrain[dfTrain['Year'] >= '2015']"
   ]
  },
  {
   "cell_type": "code",
   "execution_count": 15,
   "metadata": {
    "colab": {
     "base_uri": "https://localhost:8080/"
    },
    "id": "TuR65ImjGe0i",
    "outputId": "0a45abed-384e-4df2-af9b-046e8a16e6e2"
   },
   "outputs": [
    {
     "name": "stdout",
     "output_type": "stream",
     "text": [
      "Found 23462 validated image filenames.\n"
     ]
    }
   ],
   "source": [
    "train = generator.flow_from_dataframe(\n",
    "    dataframe=dfTrain,\n",
    "    x_col=' Filename',\n",
    "    y_col=' Discharge',\n",
    "    target_size=(224, 224),\n",
    "    batch_size=8, \n",
    "    class_mode='raw',\n",
    "    validate_filenames=True\n",
    ")"
   ]
  },
  {
   "cell_type": "code",
   "execution_count": 16,
   "metadata": {
    "colab": {
     "base_uri": "https://localhost:8080/"
    },
    "id": "EkL0EqoDGe0j",
    "outputId": "624656da-62a2-4bce-9e00-507a1c86b8d7"
   },
   "outputs": [
    {
     "name": "stdout",
     "output_type": "stream",
     "text": [
      "Found 13248 validated image filenames.\n"
     ]
    }
   ],
   "source": [
    "test = generator.flow_from_dataframe(\n",
    "    dataframe=dfTest,\n",
    "    x_col=' Filename',\n",
    "    y_col=' Discharge',\n",
    "    target_size=(224, 224),\n",
    "    batch_size=8, \n",
    "    class_mode='raw',\n",
    "    validate_filenames=True\n",
    ")"
   ]
  },
  {
   "cell_type": "code",
   "execution_count": 17,
   "metadata": {
    "id": "GfwrHrkDGe0j"
   },
   "outputs": [],
   "source": [
    "def adapt_efficient_net() -> Model:\n",
    "    inputs = layers.Input(\n",
    "        shape=(224, 224, 3)\n",
    "    )  # input shapes of the images should always be 224x224x3 with EfficientNetB0\n",
    "    # use the downloaded and converted newest EfficientNet wheights\n",
    "    model = tf.keras.applications.resnet.ResNet101(include_top=False, input_tensor=inputs)\n",
    "\n",
    "    # Rebuild top\n",
    "    x = layers.GlobalAveragePooling2D(name=\"avg_pool\")(model.output)\n",
    "    x = layers.BatchNormalization()(x)\n",
    "    top_dropout_rate = 0.4\n",
    "    x = layers.Dropout(top_dropout_rate, name=\"top_dropout\")(x)\n",
    "    outputs = layers.Dense(1, activation=\"linear\")(x)\n",
    "\n",
    "    # Compile\n",
    "    model = keras.Model(inputs, outputs)\n",
    "    \n",
    "    return model"
   ]
  },
  {
   "cell_type": "code",
   "execution_count": 19,
   "metadata": {
    "colab": {
     "base_uri": "https://localhost:8080/"
    },
    "id": "Ep2cT_gdGe0j",
    "outputId": "fa45585a-c41c-4d29-c090-09bf4faf0ca4"
   },
   "outputs": [
    {
     "name": "stdout",
     "output_type": "stream",
     "text": [
      "Downloading data from https://storage.googleapis.com/tensorflow/keras-applications/resnet/resnet101_weights_tf_dim_ordering_tf_kernels_notop.h5\n",
      "171446536/171446536 [==============================] - 22s 0us/step\n"
     ]
    }
   ],
   "source": [
    "model = adapt_efficient_net()"
   ]
  },
  {
   "cell_type": "code",
   "execution_count": 20,
   "metadata": {
    "id": "IZA1MfxXGe0j"
   },
   "outputs": [],
   "source": [
    "def compile_model(model):\n",
    "    sgd = SGD(learning_rate = 0.01, decay = 1e-6, momentum = 0.9, nesterov = True)\n",
    "    model.compile(optimizer = 'adam', loss='mse', metrics=[tf.keras.metrics.MeanAbsoluteError(), tf.keras.metrics.RootMeanSquaredError(), tf.keras.metrics.MeanAbsolutePercentageError()], run_eagerly = True)\n",
    "# , mae, rsmse, r2, stand_error"
   ]
  },
  {
   "cell_type": "code",
   "execution_count": 21,
   "metadata": {
    "id": "hNcTCKOqGe0k"
   },
   "outputs": [],
   "source": [
    "def fit_model(model, train_data, validation_data):\n",
    "    training_history = model.fit(train_data, batch_size=64, epochs=15, validation_data=validation_data)\n",
    "    return training_history"
   ]
  },
  {
   "cell_type": "code",
   "execution_count": 22,
   "metadata": {
    "id": "d1AarEhpGe0k"
   },
   "outputs": [],
   "source": [
    "from keras.callbacks import EarlyStopping, ReduceLROnPlateau\n",
    "earlystop = EarlyStopping(patience=2)\n",
    "#learning_rate_reduction = ReduceLROnPlateau(monitor='val_loss', patience=2, verbose=1, factor=0.5, min_lr=0.00001)\n"
   ]
  },
  {
   "cell_type": "code",
   "execution_count": 23,
   "metadata": {
    "id": "P2z4Xa6pGe0k"
   },
   "outputs": [],
   "source": [
    "def fit_model_w_early_stopping(model, train_data, validation_data):\n",
    "    training_history = model.fit(train_data, \n",
    "                                 batch_size=64, \n",
    "                                 epochs=10, \n",
    "                                 validation_data=validation_data,\n",
    "                                 callbacks = [earlystop])\n",
    "    return training_history"
   ]
  },
  {
   "cell_type": "code",
   "execution_count": 24,
   "metadata": {
    "id": "Eapbg3-mGe0k"
   },
   "outputs": [],
   "source": [
    "compile_model(model)"
   ]
  },
  {
   "cell_type": "code",
   "execution_count": 25,
   "metadata": {
    "colab": {
     "background_save": true,
     "base_uri": "https://localhost:8080/"
    },
    "id": "O6cWNl8qGe0l",
    "outputId": "fc576781-a9eb-4a91-cf74-1027cfba58da"
   },
   "outputs": [
    {
     "name": "stdout",
     "output_type": "stream",
     "text": [
      "Epoch 1/15\n",
      "2933/2933 [==============================] - 2771s 938ms/step - loss: 147997.8906 - mean_absolute_error: 273.3284 - root_mean_squared_error: 384.7049 - mean_absolute_percentage_error: 10279386112.0000 - val_loss: 26162.4121 - val_mean_absolute_error: 106.4114 - val_root_mean_squared_error: 161.7480 - val_mean_absolute_percentage_error: 2455713280.0000\n",
      "Epoch 2/15\n",
      "2933/2933 [==============================] - 2626s 895ms/step - loss: 68456.7891 - mean_absolute_error: 205.8749 - root_mean_squared_error: 261.6425 - mean_absolute_percentage_error: 11060838400.0000 - val_loss: 27853.0605 - val_mean_absolute_error: 147.6372 - val_root_mean_squared_error: 166.8924 - val_mean_absolute_percentage_error: 10599204864.0000\n",
      "Epoch 3/15\n",
      "2933/2933 [==============================] - 2460s 839ms/step - loss: 67203.4141 - mean_absolute_error: 204.5861 - root_mean_squared_error: 259.2362 - mean_absolute_percentage_error: 11025582080.0000 - val_loss: 7715.6074 - val_mean_absolute_error: 65.2718 - val_root_mean_squared_error: 87.8385 - val_mean_absolute_percentage_error: 5197561856.0000\n",
      "Epoch 4/15\n",
      "2933/2933 [==============================] - 2428s 828ms/step - loss: 65773.7109 - mean_absolute_error: 205.2661 - root_mean_squared_error: 256.4638 - mean_absolute_percentage_error: 10463399936.0000 - val_loss: 3277.0203 - val_mean_absolute_error: 38.9071 - val_root_mean_squared_error: 57.2453 - val_mean_absolute_percentage_error: 3311579904.0000\n",
      "Epoch 5/15\n",
      "2933/2933 [==============================] - 2504s 854ms/step - loss: 64988.7578 - mean_absolute_error: 202.5519 - root_mean_squared_error: 254.9289 - mean_absolute_percentage_error: 10997024768.0000 - val_loss: 8190.1665 - val_mean_absolute_error: 74.0086 - val_root_mean_squared_error: 90.4995 - val_mean_absolute_percentage_error: 4276695808.0000\n",
      "Epoch 6/15\n",
      "2933/2933 [==============================] - 2429s 828ms/step - loss: 62557.2930 - mean_absolute_error: 199.6025 - root_mean_squared_error: 250.1146 - mean_absolute_percentage_error: 10863029248.0000 - val_loss: 7053.4165 - val_mean_absolute_error: 74.2920 - val_root_mean_squared_error: 83.9846 - val_mean_absolute_percentage_error: 5350657024.0000\n",
      "Epoch 7/15\n",
      "2933/2933 [==============================] - 2450s 835ms/step - loss: 61906.3594 - mean_absolute_error: 199.7939 - root_mean_squared_error: 248.8099 - mean_absolute_percentage_error: 10712743936.0000 - val_loss: 5555.7861 - val_mean_absolute_error: 57.8083 - val_root_mean_squared_error: 74.5371 - val_mean_absolute_percentage_error: 4305482752.0000\n",
      "Epoch 8/15\n",
      "2933/2933 [==============================] - 2414s 823ms/step - loss: 64215.3164 - mean_absolute_error: 201.4252 - root_mean_squared_error: 253.4074 - mean_absolute_percentage_error: 10721280000.0000 - val_loss: 11622.8604 - val_mean_absolute_error: 79.2243 - val_root_mean_squared_error: 107.8094 - val_mean_absolute_percentage_error: 4328681984.0000\n",
      "Epoch 9/15\n",
      "2933/2933 [==============================] - 2390s 815ms/step - loss: 63087.8398 - mean_absolute_error: 199.2401 - root_mean_squared_error: 251.1729 - mean_absolute_percentage_error: 10355852288.0000 - val_loss: 9761.6152 - val_mean_absolute_error: 67.6027 - val_root_mean_squared_error: 98.8009 - val_mean_absolute_percentage_error: 4339124224.0000\n",
      "Epoch 10/15\n",
      "2933/2933 [==============================] - 2389s 814ms/step - loss: 63778.4023 - mean_absolute_error: 201.8250 - root_mean_squared_error: 252.5439 - mean_absolute_percentage_error: 10608496640.0000 - val_loss: 3086.5857 - val_mean_absolute_error: 39.8676 - val_root_mean_squared_error: 55.5570 - val_mean_absolute_percentage_error: 3558001152.0000\n",
      "Epoch 11/15\n",
      "2933/2933 [==============================] - 2400s 818ms/step - loss: 62913.8867 - mean_absolute_error: 201.0901 - root_mean_squared_error: 250.8264 - mean_absolute_percentage_error: 10427869184.0000 - val_loss: 2329.0005 - val_mean_absolute_error: 36.1546 - val_root_mean_squared_error: 48.2597 - val_mean_absolute_percentage_error: 4528946176.0000\n",
      "Epoch 12/15\n",
      "2933/2933 [==============================] - 2390s 815ms/step - loss: 61701.0781 - mean_absolute_error: 196.7525 - root_mean_squared_error: 248.3970 - mean_absolute_percentage_error: 10491343872.0000 - val_loss: 9280.2607 - val_mean_absolute_error: 82.1321 - val_root_mean_squared_error: 96.3341 - val_mean_absolute_percentage_error: 6471414272.0000\n",
      "Epoch 13/15\n",
      "2933/2933 [==============================] - 2375s 810ms/step - loss: 62250.0859 - mean_absolute_error: 199.9612 - root_mean_squared_error: 249.4997 - mean_absolute_percentage_error: 10464418816.0000 - val_loss: 9381.9902 - val_mean_absolute_error: 80.3165 - val_root_mean_squared_error: 96.8607 - val_mean_absolute_percentage_error: 5794091520.0000\n",
      "Epoch 14/15\n",
      "2933/2933 [==============================] - 2172s 741ms/step - loss: 61821.8945 - mean_absolute_error: 200.6495 - root_mean_squared_error: 248.6401 - mean_absolute_percentage_error: 10549956608.0000 - val_loss: 7190.3911 - val_mean_absolute_error: 53.0035 - val_root_mean_squared_error: 84.7962 - val_mean_absolute_percentage_error: 3007795200.0000\n",
      "Epoch 15/15\n",
      "2933/2933 [==============================] - 2168s 739ms/step - loss: 62088.5273 - mean_absolute_error: 199.8450 - root_mean_squared_error: 249.1757 - mean_absolute_percentage_error: 10432696320.0000 - val_loss: 5331.3003 - val_mean_absolute_error: 53.5960 - val_root_mean_squared_error: 73.0158 - val_mean_absolute_percentage_error: 3318815488.0000\n"
     ]
    }
   ],
   "source": [
    "training_history = fit_model(model, train, test)"
   ]
  },
  {
   "cell_type": "code",
   "execution_count": 26,
   "metadata": {
    "id": "6kuMpe7AGe0l"
   },
   "outputs": [
    {
     "name": "stdout",
     "output_type": "stream",
     "text": [
      "1656/1656 [==============================] - 366s 221ms/step - loss: 5331.3003 - mean_absolute_error: 53.5960 - root_mean_squared_error: 73.0158 - mean_absolute_percentage_error: 3318818048.0000\n"
     ]
    },
    {
     "data": {
      "text/plain": [
       "[5331.30029296875, 53.59601593017578, 73.01575469970703, 3318818048.0]"
      ]
     },
     "execution_count": 26,
     "metadata": {},
     "output_type": "execute_result"
    }
   ],
   "source": [
    "model.evaluate(test, batch_size=64)"
   ]
  },
  {
   "cell_type": "code",
   "execution_count": 27,
   "metadata": {
    "id": "Ew136g_RGe0l"
   },
   "outputs": [
    {
     "data": {
      "text/plain": [
       "{'loss': [147997.890625,\n",
       "  68456.7890625,\n",
       "  67203.4140625,\n",
       "  65773.7109375,\n",
       "  64988.7578125,\n",
       "  62557.29296875,\n",
       "  61906.359375,\n",
       "  64215.31640625,\n",
       "  63087.83984375,\n",
       "  63778.40234375,\n",
       "  62913.88671875,\n",
       "  61701.078125,\n",
       "  62250.0859375,\n",
       "  61821.89453125,\n",
       "  62088.52734375],\n",
       " 'mean_absolute_error': [273.328369140625,\n",
       "  205.8749237060547,\n",
       "  204.58607482910156,\n",
       "  205.26605224609375,\n",
       "  202.55189514160156,\n",
       "  199.60247802734375,\n",
       "  199.79385375976562,\n",
       "  201.4252166748047,\n",
       "  199.24009704589844,\n",
       "  201.824951171875,\n",
       "  201.090087890625,\n",
       "  196.75247192382812,\n",
       "  199.96115112304688,\n",
       "  200.6495361328125,\n",
       "  199.84495544433594],\n",
       " 'root_mean_squared_error': [384.7049255371094,\n",
       "  261.6424865722656,\n",
       "  259.2362060546875,\n",
       "  256.4638366699219,\n",
       "  254.92892456054688,\n",
       "  250.11456298828125,\n",
       "  248.8098907470703,\n",
       "  253.40740966796875,\n",
       "  251.1729278564453,\n",
       "  252.54385375976562,\n",
       "  250.82640075683594,\n",
       "  248.3970184326172,\n",
       "  249.49966430664062,\n",
       "  248.6400909423828,\n",
       "  249.17568969726562],\n",
       " 'mean_absolute_percentage_error': [10279386112.0,\n",
       "  11060838400.0,\n",
       "  11025582080.0,\n",
       "  10463399936.0,\n",
       "  10997024768.0,\n",
       "  10863029248.0,\n",
       "  10712743936.0,\n",
       "  10721280000.0,\n",
       "  10355852288.0,\n",
       "  10608496640.0,\n",
       "  10427869184.0,\n",
       "  10491343872.0,\n",
       "  10464418816.0,\n",
       "  10549956608.0,\n",
       "  10432696320.0],\n",
       " 'val_loss': [26162.412109375,\n",
       "  27853.060546875,\n",
       "  7715.607421875,\n",
       "  3277.020263671875,\n",
       "  8190.16650390625,\n",
       "  7053.41650390625,\n",
       "  5555.7861328125,\n",
       "  11622.8603515625,\n",
       "  9761.615234375,\n",
       "  3086.585693359375,\n",
       "  2329.00048828125,\n",
       "  9280.2607421875,\n",
       "  9381.990234375,\n",
       "  7190.39111328125,\n",
       "  5331.30029296875],\n",
       " 'val_mean_absolute_error': [106.4113998413086,\n",
       "  147.63722229003906,\n",
       "  65.2717514038086,\n",
       "  38.90711212158203,\n",
       "  74.00863647460938,\n",
       "  74.2919921875,\n",
       "  57.808250427246094,\n",
       "  79.22428894042969,\n",
       "  67.60267639160156,\n",
       "  39.86762237548828,\n",
       "  36.15456008911133,\n",
       "  82.13214111328125,\n",
       "  80.31649780273438,\n",
       "  53.003501892089844,\n",
       "  53.59603500366211],\n",
       " 'val_root_mean_squared_error': [161.74798583984375,\n",
       "  166.89236450195312,\n",
       "  87.83853149414062,\n",
       "  57.245262145996094,\n",
       "  90.49954223632812,\n",
       "  83.984619140625,\n",
       "  74.53714752197266,\n",
       "  107.80937194824219,\n",
       "  98.80088806152344,\n",
       "  55.55704879760742,\n",
       "  48.25971984863281,\n",
       "  96.3341064453125,\n",
       "  96.86067199707031,\n",
       "  84.79617309570312,\n",
       "  73.01575469970703],\n",
       " 'val_mean_absolute_percentage_error': [2455713280.0,\n",
       "  10599204864.0,\n",
       "  5197561856.0,\n",
       "  3311579904.0,\n",
       "  4276695808.0,\n",
       "  5350657024.0,\n",
       "  4305482752.0,\n",
       "  4328681984.0,\n",
       "  4339124224.0,\n",
       "  3558001152.0,\n",
       "  4528946176.0,\n",
       "  6471414272.0,\n",
       "  5794091520.0,\n",
       "  3007795200.0,\n",
       "  3318815488.0]}"
      ]
     },
     "execution_count": 27,
     "metadata": {},
     "output_type": "execute_result"
    }
   ],
   "source": [
    "training_history.history"
   ]
  },
  {
   "cell_type": "code",
   "execution_count": 28,
   "metadata": {},
   "outputs": [],
   "source": [
    "import json\n",
    "\n",
    "# as requested in comment\n",
    "exDict = {'exDict': training_history.history}\n",
    "\n",
    "with open('file2.txt', 'w') as file:\n",
    "     file.write(json.dumps(exDict))"
   ]
  },
  {
   "cell_type": "code",
   "execution_count": 31,
   "metadata": {},
   "outputs": [
    {
     "data": {
      "text/plain": [
       "[<matplotlib.lines.Line2D at 0x7f9a6c687700>,\n",
       " <matplotlib.lines.Line2D at 0x7f9a6c687760>]"
      ]
     },
     "execution_count": 31,
     "metadata": {},
     "output_type": "execute_result"
    }
   ],
   "source": [
    "fig, ax = plt.subplots()\n",
    "X = np.linspace(0, 1, 15)\n",
    "Y1 = training_history.history['loss']\n",
    "Y2 = training_history.history['val_loss']\n",
    "ax.plot(X, Y1, X, Y2)\n"
   ]
  },
  {
   "cell_type": "code",
   "execution_count": 32,
   "metadata": {},
   "outputs": [
    {
     "name": "stdout",
     "output_type": "stream",
     "text": [
      "1656/1656 [==============================] - 523s 316ms/step\n"
     ]
    }
   ],
   "source": [
    "predictions = model.predict(test)"
   ]
  },
  {
   "cell_type": "code",
   "execution_count": 33,
   "metadata": {},
   "outputs": [
    {
     "data": {
      "text/plain": [
       "array([[ 141.6008 ],\n",
       "       [ 354.1262 ],\n",
       "       [1574.6321 ],\n",
       "       ...,\n",
       "       [ 920.53076],\n",
       "       [ 270.53476],\n",
       "       [ 322.16635]], dtype=float32)"
      ]
     },
     "execution_count": 33,
     "metadata": {},
     "output_type": "execute_result"
    }
   ],
   "source": [
    "predictions"
   ]
  },
  {
   "cell_type": "code",
   "execution_count": 34,
   "metadata": {},
   "outputs": [
    {
     "data": {
      "text/plain": [
       "<keras.preprocessing.image.DataFrameIterator at 0x7f9b98adc940>"
      ]
     },
     "execution_count": 34,
     "metadata": {},
     "output_type": "execute_result"
    }
   ],
   "source": [
    "test"
   ]
  },
  {
   "cell_type": "code",
   "execution_count": 38,
   "metadata": {},
   "outputs": [
    {
     "data": {
      "text/plain": [
       "13248"
      ]
     },
     "execution_count": 38,
     "metadata": {},
     "output_type": "execute_result"
    }
   ],
   "source": [
    "len(predictions)"
   ]
  },
  {
   "cell_type": "code",
   "execution_count": 40,
   "metadata": {},
   "outputs": [],
   "source": [
    "np.savetxt(\"predictions_resnet.csv\", predictions, delimiter=\",\")"
   ]
  },
  {
   "cell_type": "code",
   "execution_count": 41,
   "metadata": {},
   "outputs": [],
   "source": [
    "weights = model.get_weights()  # Recupera el estado del modelo.\n",
    "model.set_weights(weights) #set weigths"
   ]
  },
  {
   "cell_type": "code",
   "execution_count": 42,
   "metadata": {},
   "outputs": [
    {
     "name": "stderr",
     "output_type": "stream",
     "text": [
      "/usr/local/lib/python3.8/dist-packages/numpy/lib/npyio.py:1513: VisibleDeprecationWarning: Creating an ndarray from ragged nested sequences (which is a list-or-tuple of lists-or-tuples-or ndarrays with different lengths or shapes) is deprecated. If you meant to do this, you must specify 'dtype=object' when creating the ndarray.\n",
      "  X = np.asarray(X)\n"
     ]
    }
   ],
   "source": [
    "np.savetxt('weight_resnet.csv' , weights , fmt='%s', delimiter=',')"
   ]
  },
  {
   "cell_type": "code",
   "execution_count": 60,
   "metadata": {},
   "outputs": [
    {
     "data": {
      "image/png": "[encoded data removed]",
      "text/plain": [
       "<Figure size 640x480 with 1 Axes>"
      ]
     },
     "execution_count": 60,
     "metadata": {},
     "output_type": "execute_result"
    }
   ],
   "source": [
    "fig, ax = plt.subplots()\n",
    "X = np.linspace(0, 1, 15)\n",
    "Y1 = training_history.history['loss']\n",
    "Y2 = training_history.history['val_loss']\n",
    "ax.plot(X, Y1, X, Y2)\n",
    "fig"
   ]
  },
  {
   "cell_type": "code",
   "execution_count": 62,
   "metadata": {},
   "outputs": [
    {
     "data": {
      "image/png": "[encoded data removed]",
      "text/plain": [
       "<Figure size 640x480 with 1 Axes>"
      ]
     },
     "execution_count": 62,
     "metadata": {},
     "output_type": "execute_result"
    }
   ],
   "source": [
    "fig, ax = plt.subplots()\n",
    "ax.plot(predictions)\n",
    "fig"
   ]
  },
  {
   "cell_type": "code",
   "execution_count": 69,
   "metadata": {},
   "outputs": [],
   "source": [
    "test?"
   ]
  },
  {
   "cell_type": "code",
   "execution_count": 68,
   "metadata": {},
   "outputs": [],
   "source": [
    "y = test"
   ]
  },
  {
   "cell_type": "code",
   "execution_count": 93,
   "metadata": {},
   "outputs": [],
   "source": [
    "Y_Real = test[0][1]\n",
    "for i in range(1,len(test),1):\n",
    "    Y_Real = np.concatenate((Y_Real, test[i][1]))"
   ]
  },
  {
   "cell_type": "code",
   "execution_count": 94,
   "metadata": {},
   "outputs": [
    {
     "data": {
      "text/plain": [
       "13248"
      ]
     },
     "execution_count": 94,
     "metadata": {},
     "output_type": "execute_result"
    }
   ],
   "source": [
    "len(Y_Real)"
   ]
  },
  {
   "cell_type": "code",
   "execution_count": 114,
   "metadata": {},
   "outputs": [
    {
     "data": {
      "image/png": "[encoded data removed]",
      "text/plain": [
       "<Figure size 640x480 with 1 Axes>"
      ]
     },
     "execution_count": 114,
     "metadata": {},
     "output_type": "execute_result"
    }
   ],
   "source": [
    "fig, ax = plt.subplots()\n",
    "X = np.linspace(0, 100, 100)\n",
    "Y1, Y2 = np.sin(X), np.cos(X)\n",
    "ax.plot(X, Y_Real[:100], X, predictions[:100])\n",
    "fig"
   ]
  },
  {
   "cell_type": "code",
   "execution_count": 115,
   "metadata": {},
   "outputs": [
    {
     "data": {
      "image/png": "[encoded data removed]",
      "text/plain": [
       "<Figure size 640x480 with 1 Axes>"
      ]
     },
     "execution_count": 115,
     "metadata": {},
     "output_type": "execute_result"
    }
   ],
   "source": [
    "fig, ax = plt.subplots()\n",
    "ax.hist(predictions)\n",
    "fig"
   ]
  },
  {
   "cell_type": "code",
   "execution_count": 116,
   "metadata": {},
   "outputs": [
    {
     "data": {
      "image/png": "[encoded data removed]",
      "text/plain": [
       "<Figure size 640x480 with 1 Axes>"
      ]
     },
     "execution_count": 116,
     "metadata": {},
     "output_type": "execute_result"
    }
   ],
   "source": [
    "fig, ax = plt.subplots()\n",
    "ax.hist(Y_Real)\n",
    "fig"
   ]
  },
  {
   "cell_type": "code",
   "execution_count": null,
   "metadata": {},
   "outputs": [],
   "source": []
  }
 ],
 "metadata": {
  "accelerator": "TPU",
  "colab": {
   "provenance": []
  },
  "gpuClass": "standard",
  "kernelspec": {
   "display_name": "Python 3",
   "language": "python",
   "name": "python3"
  },
  "language_info": {
   "codemirror_mode": {
    "name": "ipython",
    "version": 3
   },
   "file_extension": ".py",
   "mimetype": "text/x-python",
   "name": "python",
   "nbconvert_exporter": "python",
   "pygments_lexer": "ipython3",
   "version": "3.8.10"
  }
 },
 "nbformat": 4,
 "nbformat_minor": 1
}
