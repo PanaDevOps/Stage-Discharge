{
 "cells": [
  {
   "cell_type": "code",
   "execution_count": 84,
   "metadata": {
    "collapsed": true
   },
   "outputs": [],
   "source": [
    "# Import libraries and functions\n",
    "import numpy as np\n",
    "import pandas as pd\n",
    "import matplotlib.pyplot as plt\n",
    "import random\n",
    "import keras\n",
    "import tensorflow as tf\n",
    "import warnings\n",
    "import os\n",
    "from keras import layers\n",
    "from keras import models\n",
    "from keras import optimizers\n",
    "from tensorflow.keras.layers import Dense, Flatten, Conv2D, MaxPooling2D, BatchNormalization\n",
    "from tensorflow.keras import Model\n",
    "from tensorflow.keras import Sequential\n",
    "from tensorflow.keras.optimizers import Adam\n",
    "from tensorflow.keras.callbacks import EarlyStopping\n",
    "from keras.preprocessing.image import ImageDataGenerator\n",
    "warnings.filterwarnings('ignore')"
   ]
  },
  {
   "cell_type": "code",
   "execution_count": 85,
   "outputs": [],
   "source": [
    "url = 'Datasets/2012_2019_PlatteRiverWeir_features_merged_all.csv'\n",
    "\n",
    "dfCNN = pd.read_csv(url)"
   ],
   "metadata": {
    "collapsed": false
   }
  },
  {
   "cell_type": "code",
   "execution_count": 86,
   "outputs": [
    {
     "data": {
      "text/plain": "                SensorTime          CaptureTime  \\\n0      2012-06-09 13:15:00  2012-06-09T13:09:07   \n1      2012-06-09 13:15:00  2012-06-09T13:10:29   \n2      2012-06-09 13:45:00  2012-06-09T13:44:01   \n3      2012-06-09 14:45:00  2012-06-09T14:44:30   \n4      2012-06-09 15:45:00  2012-06-09T15:44:59   \n...                    ...                  ...   \n42054  2019-10-11 09:00:00  2019-10-11T08:59:53   \n42055  2019-10-11 10:00:00  2019-10-11T09:59:52   \n42056  2019-10-11 11:00:00  2019-10-11T10:59:52   \n42057  2019-10-11 12:00:00  2019-10-11T11:59:53   \n42058  2019-10-11 12:45:00  2019-10-11T12:59:52   \n\n                                     Filename  Agency   SiteNumber  TimeZone  \\\n0      StateLineWeir_20120609_Farrell_001.jpg    USGS      6674500       MDT   \n1      StateLineWeir_20120609_Farrell_002.jpg    USGS      6674500       MDT   \n2      StateLineWeir_20120609_Farrell_003.jpg    USGS      6674500       MDT   \n3      StateLineWeir_20120609_Farrell_004.jpg    USGS      6674500       MDT   \n4      StateLineWeir_20120609_Farrell_005.jpg    USGS      6674500       MDT   \n...                                       ...     ...          ...       ...   \n42054  StateLineWeir_20191011_Farrell_409.jpg    USGS      6674500       MDT   \n42055  StateLineWeir_20191011_Farrell_410.jpg    USGS      6674500       MDT   \n42056  StateLineWeir_20191011_Farrell_411.jpg    USGS      6674500       MDT   \n42057  StateLineWeir_20191011_Farrell_412.jpg    USGS      6674500       MDT   \n42058  StateLineWeir_20191011_Farrell_413.jpg    USGS      6674500       MDT   \n\n        Stage   Discharge        CalcTimestamp   width  ...   WeirPt2X  \\\n0        2.99       916.0  2020-03-11T16:58:28    4288  ...         -1   \n1        2.99       916.0  2020-03-11T16:58:33    4288  ...         -1   \n2        2.96       873.0  2020-03-11T16:58:40    4288  ...         -1   \n3        2.94       846.0  2020-03-11T16:58:47    4288  ...         -1   \n4        2.94       846.0  2020-03-11T16:58:55    4288  ...         -1   \n...       ...         ...                  ...     ...  ...        ...   \n42054    2.54       434.0  2020-03-12T16:23:53    4288  ...       2446   \n42055    2.54       434.0  2020-03-12T16:23:54    4288  ...       2440   \n42056    2.54       434.0  2020-03-12T16:23:55    4288  ...       2447   \n42057    2.54       434.0  2020-03-12T16:23:56    4288  ...       2443   \n42058    2.54       434.0  2020-03-12T16:23:58    4288  ...       2436   \n\n        WeirPt2Y   WwRawLineMin   WwRawLineMax   WwRawLineMean  \\\n0             -1            0.0            0.0        0.000000   \n1             -1            0.0            0.0        0.000000   \n2             -1            0.0            0.0        0.000000   \n3             -1            0.0            0.0        0.000000   \n4             -1            0.0            0.0        0.000000   \n...          ...            ...            ...             ...   \n42054       1900         9284.0        77521.0    38385.370066   \n42055       1900        10092.0        74614.0    40162.989292   \n42056       1900         7067.0        83260.0    42095.946590   \n42057       1900         6283.0        83045.0    45345.490954   \n42058       1900         7375.0        89813.0    47877.870782   \n\n        WwRawLineSigma   WwCurveLineMin   WwCurveLineMax   WwCurveLineMean  \\\n0             0.000000              0.0              0.0          0.000000   \n1             0.000000              0.0              0.0          0.000000   \n2             0.000000              0.0              0.0          0.000000   \n3             0.000000              0.0              0.0          0.000000   \n4             0.000000              0.0              0.0          0.000000   \n...                ...              ...              ...               ...   \n42054     15952.029728              0.0          70085.0      37550.894823   \n42055     15467.708856              0.0          70061.0      39397.339095   \n42056     16770.357949              0.0          76335.0      41350.006568   \n42057     17498.432849              0.0          78882.0      44553.920296   \n42058     19963.166359              0.0          82630.0      47280.270559   \n\n        WwCurveLineSigma  \n0               0.000000  \n1               0.000000  \n2               0.000000  \n3               0.000000  \n4               0.000000  \n...                  ...  \n42054       16444.401209  \n42055       16009.008049  \n42056       17489.374617  \n42057       18268.294896  \n42058       20559.358767  \n\n[42059 rows x 59 columns]",
      "text/html": "<div>\n<style scoped>\n    .dataframe tbody tr th:only-of-type {\n        vertical-align: middle;\n    }\n\n    .dataframe tbody tr th {\n        vertical-align: top;\n    }\n\n    .dataframe thead th {\n        text-align: right;\n    }\n</style>\n<table border=\"1\" class=\"dataframe\">\n  <thead>\n    <tr style=\"text-align: right;\">\n      <th></th>\n      <th>SensorTime</th>\n      <th>CaptureTime</th>\n      <th>Filename</th>\n      <th>Agency</th>\n      <th>SiteNumber</th>\n      <th>TimeZone</th>\n      <th>Stage</th>\n      <th>Discharge</th>\n      <th>CalcTimestamp</th>\n      <th>width</th>\n      <th>...</th>\n      <th>WeirPt2X</th>\n      <th>WeirPt2Y</th>\n      <th>WwRawLineMin</th>\n      <th>WwRawLineMax</th>\n      <th>WwRawLineMean</th>\n      <th>WwRawLineSigma</th>\n      <th>WwCurveLineMin</th>\n      <th>WwCurveLineMax</th>\n      <th>WwCurveLineMean</th>\n      <th>WwCurveLineSigma</th>\n    </tr>\n  </thead>\n  <tbody>\n    <tr>\n      <th>0</th>\n      <td>2012-06-09 13:15:00</td>\n      <td>2012-06-09T13:09:07</td>\n      <td>StateLineWeir_20120609_Farrell_001.jpg</td>\n      <td>USGS</td>\n      <td>6674500</td>\n      <td>MDT</td>\n      <td>2.99</td>\n      <td>916.0</td>\n      <td>2020-03-11T16:58:28</td>\n      <td>4288</td>\n      <td>...</td>\n      <td>-1</td>\n      <td>-1</td>\n      <td>0.0</td>\n      <td>0.0</td>\n      <td>0.000000</td>\n      <td>0.000000</td>\n      <td>0.0</td>\n      <td>0.0</td>\n      <td>0.000000</td>\n      <td>0.000000</td>\n    </tr>\n    <tr>\n      <th>1</th>\n      <td>2012-06-09 13:15:00</td>\n      <td>2012-06-09T13:10:29</td>\n      <td>StateLineWeir_20120609_Farrell_002.jpg</td>\n      <td>USGS</td>\n      <td>6674500</td>\n      <td>MDT</td>\n      <td>2.99</td>\n      <td>916.0</td>\n      <td>2020-03-11T16:58:33</td>\n      <td>4288</td>\n      <td>...</td>\n      <td>-1</td>\n      <td>-1</td>\n      <td>0.0</td>\n      <td>0.0</td>\n      <td>0.000000</td>\n      <td>0.000000</td>\n      <td>0.0</td>\n      <td>0.0</td>\n      <td>0.000000</td>\n      <td>0.000000</td>\n    </tr>\n    <tr>\n      <th>2</th>\n      <td>2012-06-09 13:45:00</td>\n      <td>2012-06-09T13:44:01</td>\n      <td>StateLineWeir_20120609_Farrell_003.jpg</td>\n      <td>USGS</td>\n      <td>6674500</td>\n      <td>MDT</td>\n      <td>2.96</td>\n      <td>873.0</td>\n      <td>2020-03-11T16:58:40</td>\n      <td>4288</td>\n      <td>...</td>\n      <td>-1</td>\n      <td>-1</td>\n      <td>0.0</td>\n      <td>0.0</td>\n      <td>0.000000</td>\n      <td>0.000000</td>\n      <td>0.0</td>\n      <td>0.0</td>\n      <td>0.000000</td>\n      <td>0.000000</td>\n    </tr>\n    <tr>\n      <th>3</th>\n      <td>2012-06-09 14:45:00</td>\n      <td>2012-06-09T14:44:30</td>\n      <td>StateLineWeir_20120609_Farrell_004.jpg</td>\n      <td>USGS</td>\n      <td>6674500</td>\n      <td>MDT</td>\n      <td>2.94</td>\n      <td>846.0</td>\n      <td>2020-03-11T16:58:47</td>\n      <td>4288</td>\n      <td>...</td>\n      <td>-1</td>\n      <td>-1</td>\n      <td>0.0</td>\n      <td>0.0</td>\n      <td>0.000000</td>\n      <td>0.000000</td>\n      <td>0.0</td>\n      <td>0.0</td>\n      <td>0.000000</td>\n      <td>0.000000</td>\n    </tr>\n    <tr>\n      <th>4</th>\n      <td>2012-06-09 15:45:00</td>\n      <td>2012-06-09T15:44:59</td>\n      <td>StateLineWeir_20120609_Farrell_005.jpg</td>\n      <td>USGS</td>\n      <td>6674500</td>\n      <td>MDT</td>\n      <td>2.94</td>\n      <td>846.0</td>\n      <td>2020-03-11T16:58:55</td>\n      <td>4288</td>\n      <td>...</td>\n      <td>-1</td>\n      <td>-1</td>\n      <td>0.0</td>\n      <td>0.0</td>\n      <td>0.000000</td>\n      <td>0.000000</td>\n      <td>0.0</td>\n      <td>0.0</td>\n      <td>0.000000</td>\n      <td>0.000000</td>\n    </tr>\n    <tr>\n      <th>...</th>\n      <td>...</td>\n      <td>...</td>\n      <td>...</td>\n      <td>...</td>\n      <td>...</td>\n      <td>...</td>\n      <td>...</td>\n      <td>...</td>\n      <td>...</td>\n      <td>...</td>\n      <td>...</td>\n      <td>...</td>\n      <td>...</td>\n      <td>...</td>\n      <td>...</td>\n      <td>...</td>\n      <td>...</td>\n      <td>...</td>\n      <td>...</td>\n      <td>...</td>\n      <td>...</td>\n    </tr>\n    <tr>\n      <th>42054</th>\n      <td>2019-10-11 09:00:00</td>\n      <td>2019-10-11T08:59:53</td>\n      <td>StateLineWeir_20191011_Farrell_409.jpg</td>\n      <td>USGS</td>\n      <td>6674500</td>\n      <td>MDT</td>\n      <td>2.54</td>\n      <td>434.0</td>\n      <td>2020-03-12T16:23:53</td>\n      <td>4288</td>\n      <td>...</td>\n      <td>2446</td>\n      <td>1900</td>\n      <td>9284.0</td>\n      <td>77521.0</td>\n      <td>38385.370066</td>\n      <td>15952.029728</td>\n      <td>0.0</td>\n      <td>70085.0</td>\n      <td>37550.894823</td>\n      <td>16444.401209</td>\n    </tr>\n    <tr>\n      <th>42055</th>\n      <td>2019-10-11 10:00:00</td>\n      <td>2019-10-11T09:59:52</td>\n      <td>StateLineWeir_20191011_Farrell_410.jpg</td>\n      <td>USGS</td>\n      <td>6674500</td>\n      <td>MDT</td>\n      <td>2.54</td>\n      <td>434.0</td>\n      <td>2020-03-12T16:23:54</td>\n      <td>4288</td>\n      <td>...</td>\n      <td>2440</td>\n      <td>1900</td>\n      <td>10092.0</td>\n      <td>74614.0</td>\n      <td>40162.989292</td>\n      <td>15467.708856</td>\n      <td>0.0</td>\n      <td>70061.0</td>\n      <td>39397.339095</td>\n      <td>16009.008049</td>\n    </tr>\n    <tr>\n      <th>42056</th>\n      <td>2019-10-11 11:00:00</td>\n      <td>2019-10-11T10:59:52</td>\n      <td>StateLineWeir_20191011_Farrell_411.jpg</td>\n      <td>USGS</td>\n      <td>6674500</td>\n      <td>MDT</td>\n      <td>2.54</td>\n      <td>434.0</td>\n      <td>2020-03-12T16:23:55</td>\n      <td>4288</td>\n      <td>...</td>\n      <td>2447</td>\n      <td>1900</td>\n      <td>7067.0</td>\n      <td>83260.0</td>\n      <td>42095.946590</td>\n      <td>16770.357949</td>\n      <td>0.0</td>\n      <td>76335.0</td>\n      <td>41350.006568</td>\n      <td>17489.374617</td>\n    </tr>\n    <tr>\n      <th>42057</th>\n      <td>2019-10-11 12:00:00</td>\n      <td>2019-10-11T11:59:53</td>\n      <td>StateLineWeir_20191011_Farrell_412.jpg</td>\n      <td>USGS</td>\n      <td>6674500</td>\n      <td>MDT</td>\n      <td>2.54</td>\n      <td>434.0</td>\n      <td>2020-03-12T16:23:56</td>\n      <td>4288</td>\n      <td>...</td>\n      <td>2443</td>\n      <td>1900</td>\n      <td>6283.0</td>\n      <td>83045.0</td>\n      <td>45345.490954</td>\n      <td>17498.432849</td>\n      <td>0.0</td>\n      <td>78882.0</td>\n      <td>44553.920296</td>\n      <td>18268.294896</td>\n    </tr>\n    <tr>\n      <th>42058</th>\n      <td>2019-10-11 12:45:00</td>\n      <td>2019-10-11T12:59:52</td>\n      <td>StateLineWeir_20191011_Farrell_413.jpg</td>\n      <td>USGS</td>\n      <td>6674500</td>\n      <td>MDT</td>\n      <td>2.54</td>\n      <td>434.0</td>\n      <td>2020-03-12T16:23:58</td>\n      <td>4288</td>\n      <td>...</td>\n      <td>2436</td>\n      <td>1900</td>\n      <td>7375.0</td>\n      <td>89813.0</td>\n      <td>47877.870782</td>\n      <td>19963.166359</td>\n      <td>0.0</td>\n      <td>82630.0</td>\n      <td>47280.270559</td>\n      <td>20559.358767</td>\n    </tr>\n  </tbody>\n</table>\n<p>42059 rows × 59 columns</p>\n</div>"
     },
     "execution_count": 86,
     "metadata": {},
     "output_type": "execute_result"
    }
   ],
   "source": [
    "dfCNN"
   ],
   "metadata": {
    "collapsed": false
   }
  },
  {
   "cell_type": "code",
   "execution_count": 87,
   "outputs": [],
   "source": [
    "input_path_train = []\n",
    "\n",
    "for filename in os.listdir('train_test_val_images/train'):\n",
    "    for path in 'train_test_val_images/train/'+dfCNN[' Filename']:\n",
    "        input_path_train.append(os.path.join('train_test_val_images/train', filename, path))"
   ],
   "metadata": {
    "collapsed": false
   }
  },
  {
   "cell_type": "code",
   "execution_count": 88,
   "outputs": [
    {
     "data": {
      "text/plain": "                                                  images  \\\n0      train_test_val_images/train\\images\\train_test_...   \n1      train_test_val_images/train\\images\\train_test_...   \n2      train_test_val_images/train\\images\\train_test_...   \n3      train_test_val_images/train\\images\\train_test_...   \n4      train_test_val_images/train\\images\\train_test_...   \n...                                                  ...   \n42054  train_test_val_images/train\\images\\train_test_...   \n42055  train_test_val_images/train\\images\\train_test_...   \n42056  train_test_val_images/train\\images\\train_test_...   \n42057  train_test_val_images/train\\images\\train_test_...   \n42058  train_test_val_images/train\\images\\train_test_...   \n\n                                     filename  discharge  \n0      StateLineWeir_20140528_Farrell_739.JPG     2110.0  \n1      StateLineWeir_20150719_Farrell_022.JPG     1250.0  \n2      StateLineWeir_20141022_Farrell_803.JPG      359.0  \n3      StateLineWeir_20190124_Farrell_052.jpg      173.0  \n4      StateLineWeir_20130418_Farrell_718.JPG      164.0  \n...                                       ...        ...  \n42054  StateLineWeir_20190508_Farrell_165.jpg      285.0  \n42055  StateLineWeir_20190127_Farrell_145.jpg      169.0  \n42056  StateLineWeir_20180708_Farrell_098.jpg     1290.0  \n42057  StateLineWeir_20170205_Farrell_278.jpg      292.0  \n42058  StateLineWeir_20171207_Farrell_741.jpg      226.0  \n\n[42059 rows x 3 columns]",
      "text/html": "<div>\n<style scoped>\n    .dataframe tbody tr th:only-of-type {\n        vertical-align: middle;\n    }\n\n    .dataframe tbody tr th {\n        vertical-align: top;\n    }\n\n    .dataframe thead th {\n        text-align: right;\n    }\n</style>\n<table border=\"1\" class=\"dataframe\">\n  <thead>\n    <tr style=\"text-align: right;\">\n      <th></th>\n      <th>images</th>\n      <th>filename</th>\n      <th>discharge</th>\n    </tr>\n  </thead>\n  <tbody>\n    <tr>\n      <th>0</th>\n      <td>train_test_val_images/train\\images\\train_test_...</td>\n      <td>StateLineWeir_20140528_Farrell_739.JPG</td>\n      <td>2110.0</td>\n    </tr>\n    <tr>\n      <th>1</th>\n      <td>train_test_val_images/train\\images\\train_test_...</td>\n      <td>StateLineWeir_20150719_Farrell_022.JPG</td>\n      <td>1250.0</td>\n    </tr>\n    <tr>\n      <th>2</th>\n      <td>train_test_val_images/train\\images\\train_test_...</td>\n      <td>StateLineWeir_20141022_Farrell_803.JPG</td>\n      <td>359.0</td>\n    </tr>\n    <tr>\n      <th>3</th>\n      <td>train_test_val_images/train\\images\\train_test_...</td>\n      <td>StateLineWeir_20190124_Farrell_052.jpg</td>\n      <td>173.0</td>\n    </tr>\n    <tr>\n      <th>4</th>\n      <td>train_test_val_images/train\\images\\train_test_...</td>\n      <td>StateLineWeir_20130418_Farrell_718.JPG</td>\n      <td>164.0</td>\n    </tr>\n    <tr>\n      <th>...</th>\n      <td>...</td>\n      <td>...</td>\n      <td>...</td>\n    </tr>\n    <tr>\n      <th>42054</th>\n      <td>train_test_val_images/train\\images\\train_test_...</td>\n      <td>StateLineWeir_20190508_Farrell_165.jpg</td>\n      <td>285.0</td>\n    </tr>\n    <tr>\n      <th>42055</th>\n      <td>train_test_val_images/train\\images\\train_test_...</td>\n      <td>StateLineWeir_20190127_Farrell_145.jpg</td>\n      <td>169.0</td>\n    </tr>\n    <tr>\n      <th>42056</th>\n      <td>train_test_val_images/train\\images\\train_test_...</td>\n      <td>StateLineWeir_20180708_Farrell_098.jpg</td>\n      <td>1290.0</td>\n    </tr>\n    <tr>\n      <th>42057</th>\n      <td>train_test_val_images/train\\images\\train_test_...</td>\n      <td>StateLineWeir_20170205_Farrell_278.jpg</td>\n      <td>292.0</td>\n    </tr>\n    <tr>\n      <th>42058</th>\n      <td>train_test_val_images/train\\images\\train_test_...</td>\n      <td>StateLineWeir_20171207_Farrell_741.jpg</td>\n      <td>226.0</td>\n    </tr>\n  </tbody>\n</table>\n<p>42059 rows × 3 columns</p>\n</div>"
     },
     "execution_count": 88,
     "metadata": {},
     "output_type": "execute_result"
    }
   ],
   "source": [
    "df_train = pd.DataFrame()\n",
    "df_train['images'] = input_path_train\n",
    "df_train['filename'] = dfCNN[' Filename']\n",
    "df_train['discharge'] = dfCNN[' Discharge']\n",
    "df_train = df_train.sample(frac=1).reset_index(drop=True)\n",
    "df_train"
   ],
   "metadata": {
    "collapsed": false
   }
  },
  {
   "cell_type": "code",
   "execution_count": 89,
   "outputs": [],
   "source": [
    "input_path_test = []\n",
    "\n",
    "for filename in os.listdir('train_test_val_images/test'):\n",
    "    for path in 'train_test_val_images/test/'+dfCNN[' Filename']:\n",
    "        input_path_test.append(os.path.join('train_test_val_images/test', filename, path))"
   ],
   "metadata": {
    "collapsed": false
   }
  },
  {
   "cell_type": "code",
   "execution_count": 90,
   "outputs": [
    {
     "data": {
      "text/plain": "                                                  images  \\\n0      train_test_val_images/test\\images\\train_test_v...   \n1      train_test_val_images/test\\images\\train_test_v...   \n2      train_test_val_images/test\\images\\train_test_v...   \n3      train_test_val_images/test\\images\\train_test_v...   \n4      train_test_val_images/test\\images\\train_test_v...   \n...                                                  ...   \n42054  train_test_val_images/test\\images\\train_test_v...   \n42055  train_test_val_images/test\\images\\train_test_v...   \n42056  train_test_val_images/test\\images\\train_test_v...   \n42057  train_test_val_images/test\\images\\train_test_v...   \n42058  train_test_val_images/test\\images\\train_test_v...   \n\n                                     filename  discharge  \n0      StateLineWeir_20141212_Farrell_675.JPG      255.0  \n1      StateLineWeir_20160727_Farrell_859.jpg     1600.0  \n2      StateLineWeir_20170923_Farrell_647.jpg     1210.0  \n3      StateLineWeir_20190120_Farrell_933.jpg      178.0  \n4      StateLineWeir_20120617_Farrell_198.jpg     1110.0  \n...                                       ...        ...  \n42054  StateLineWeir_20160726_Farrell_837.jpg     1580.0  \n42055  StateLineWeir_20170702_Farrell_384.jpg     1400.0  \n42056  StateLineWeir_20140709_Farrell_514.JPG     1410.0  \n42057  StateLineWeir_20150508_Farrell_438.JPG      249.0  \n42058  StateLineWeir_20180916_Farrell_175.jpg      846.0  \n\n[42059 rows x 3 columns]",
      "text/html": "<div>\n<style scoped>\n    .dataframe tbody tr th:only-of-type {\n        vertical-align: middle;\n    }\n\n    .dataframe tbody tr th {\n        vertical-align: top;\n    }\n\n    .dataframe thead th {\n        text-align: right;\n    }\n</style>\n<table border=\"1\" class=\"dataframe\">\n  <thead>\n    <tr style=\"text-align: right;\">\n      <th></th>\n      <th>images</th>\n      <th>filename</th>\n      <th>discharge</th>\n    </tr>\n  </thead>\n  <tbody>\n    <tr>\n      <th>0</th>\n      <td>train_test_val_images/test\\images\\train_test_v...</td>\n      <td>StateLineWeir_20141212_Farrell_675.JPG</td>\n      <td>255.0</td>\n    </tr>\n    <tr>\n      <th>1</th>\n      <td>train_test_val_images/test\\images\\train_test_v...</td>\n      <td>StateLineWeir_20160727_Farrell_859.jpg</td>\n      <td>1600.0</td>\n    </tr>\n    <tr>\n      <th>2</th>\n      <td>train_test_val_images/test\\images\\train_test_v...</td>\n      <td>StateLineWeir_20170923_Farrell_647.jpg</td>\n      <td>1210.0</td>\n    </tr>\n    <tr>\n      <th>3</th>\n      <td>train_test_val_images/test\\images\\train_test_v...</td>\n      <td>StateLineWeir_20190120_Farrell_933.jpg</td>\n      <td>178.0</td>\n    </tr>\n    <tr>\n      <th>4</th>\n      <td>train_test_val_images/test\\images\\train_test_v...</td>\n      <td>StateLineWeir_20120617_Farrell_198.jpg</td>\n      <td>1110.0</td>\n    </tr>\n    <tr>\n      <th>...</th>\n      <td>...</td>\n      <td>...</td>\n      <td>...</td>\n    </tr>\n    <tr>\n      <th>42054</th>\n      <td>train_test_val_images/test\\images\\train_test_v...</td>\n      <td>StateLineWeir_20160726_Farrell_837.jpg</td>\n      <td>1580.0</td>\n    </tr>\n    <tr>\n      <th>42055</th>\n      <td>train_test_val_images/test\\images\\train_test_v...</td>\n      <td>StateLineWeir_20170702_Farrell_384.jpg</td>\n      <td>1400.0</td>\n    </tr>\n    <tr>\n      <th>42056</th>\n      <td>train_test_val_images/test\\images\\train_test_v...</td>\n      <td>StateLineWeir_20140709_Farrell_514.JPG</td>\n      <td>1410.0</td>\n    </tr>\n    <tr>\n      <th>42057</th>\n      <td>train_test_val_images/test\\images\\train_test_v...</td>\n      <td>StateLineWeir_20150508_Farrell_438.JPG</td>\n      <td>249.0</td>\n    </tr>\n    <tr>\n      <th>42058</th>\n      <td>train_test_val_images/test\\images\\train_test_v...</td>\n      <td>StateLineWeir_20180916_Farrell_175.jpg</td>\n      <td>846.0</td>\n    </tr>\n  </tbody>\n</table>\n<p>42059 rows × 3 columns</p>\n</div>"
     },
     "execution_count": 90,
     "metadata": {},
     "output_type": "execute_result"
    }
   ],
   "source": [
    "df_test = pd.DataFrame()\n",
    "df_test['images'] = input_path_test\n",
    "df_test['filename'] = dfCNN[' Filename']\n",
    "df_test['discharge'] = dfCNN[' Discharge']\n",
    "df_test = df_test.sample(frac=1).reset_index(drop=True)\n",
    "df_test"
   ],
   "metadata": {
    "collapsed": false
   }
  },
  {
   "cell_type": "code",
   "execution_count": 91,
   "outputs": [],
   "source": [
    "input_path_val = []\n",
    "\n",
    "for filename in os.listdir('train_test_val_images/val'):\n",
    "    for path in 'train_test_val_images/val/'+dfCNN[' Filename']:\n",
    "        input_path_val.append(os.path.join('train_test_val_images/val', filename, path))"
   ],
   "metadata": {
    "collapsed": false
   }
  },
  {
   "cell_type": "code",
   "execution_count": 92,
   "outputs": [
    {
     "data": {
      "text/plain": "                                                  images  \\\n0      train_test_val_images/val\\images\\train_test_va...   \n1      train_test_val_images/val\\images\\train_test_va...   \n2      train_test_val_images/val\\images\\train_test_va...   \n3      train_test_val_images/val\\images\\train_test_va...   \n4      train_test_val_images/val\\images\\train_test_va...   \n...                                                  ...   \n42054  train_test_val_images/val\\images\\train_test_va...   \n42055  train_test_val_images/val\\images\\train_test_va...   \n42056  train_test_val_images/val\\images\\train_test_va...   \n42057  train_test_val_images/val\\images\\train_test_va...   \n42058  train_test_val_images/val\\images\\train_test_va...   \n\n                                     filename  discharge  \n0      StateLineWeir_20170710_Farrell_601.jpg     1380.0  \n1      StateLineWeir_20190410_Farrell_327.jpg      193.0  \n2      StateLineWeir_20180513_Farrell_423.jpg       87.1  \n3      StateLineWeir_20130720_Farrell_767.JPG     1270.0  \n4      StateLineWeir_20140805_Farrell_155.JPG     1540.0  \n...                                       ...        ...  \n42054  StateLineWeir_20180712_Farrell_194.jpg     1380.0  \n42055  StateLineWeir_20170821_Farrell_811.jpg     1280.0  \n42056  StateLineWeir_20160731_Farrell_981.jpg     1730.0  \n42057  StateLineWeir_20190824_Farrell_435.jpg     2870.0  \n42058  StateLineWeir_20140828_Farrell_665.JPG     1630.0  \n\n[42059 rows x 3 columns]",
      "text/html": "<div>\n<style scoped>\n    .dataframe tbody tr th:only-of-type {\n        vertical-align: middle;\n    }\n\n    .dataframe tbody tr th {\n        vertical-align: top;\n    }\n\n    .dataframe thead th {\n        text-align: right;\n    }\n</style>\n<table border=\"1\" class=\"dataframe\">\n  <thead>\n    <tr style=\"text-align: right;\">\n      <th></th>\n      <th>images</th>\n      <th>filename</th>\n      <th>discharge</th>\n    </tr>\n  </thead>\n  <tbody>\n    <tr>\n      <th>0</th>\n      <td>train_test_val_images/val\\images\\train_test_va...</td>\n      <td>StateLineWeir_20170710_Farrell_601.jpg</td>\n      <td>1380.0</td>\n    </tr>\n    <tr>\n      <th>1</th>\n      <td>train_test_val_images/val\\images\\train_test_va...</td>\n      <td>StateLineWeir_20190410_Farrell_327.jpg</td>\n      <td>193.0</td>\n    </tr>\n    <tr>\n      <th>2</th>\n      <td>train_test_val_images/val\\images\\train_test_va...</td>\n      <td>StateLineWeir_20180513_Farrell_423.jpg</td>\n      <td>87.1</td>\n    </tr>\n    <tr>\n      <th>3</th>\n      <td>train_test_val_images/val\\images\\train_test_va...</td>\n      <td>StateLineWeir_20130720_Farrell_767.JPG</td>\n      <td>1270.0</td>\n    </tr>\n    <tr>\n      <th>4</th>\n      <td>train_test_val_images/val\\images\\train_test_va...</td>\n      <td>StateLineWeir_20140805_Farrell_155.JPG</td>\n      <td>1540.0</td>\n    </tr>\n    <tr>\n      <th>...</th>\n      <td>...</td>\n      <td>...</td>\n      <td>...</td>\n    </tr>\n    <tr>\n      <th>42054</th>\n      <td>train_test_val_images/val\\images\\train_test_va...</td>\n      <td>StateLineWeir_20180712_Farrell_194.jpg</td>\n      <td>1380.0</td>\n    </tr>\n    <tr>\n      <th>42055</th>\n      <td>train_test_val_images/val\\images\\train_test_va...</td>\n      <td>StateLineWeir_20170821_Farrell_811.jpg</td>\n      <td>1280.0</td>\n    </tr>\n    <tr>\n      <th>42056</th>\n      <td>train_test_val_images/val\\images\\train_test_va...</td>\n      <td>StateLineWeir_20160731_Farrell_981.jpg</td>\n      <td>1730.0</td>\n    </tr>\n    <tr>\n      <th>42057</th>\n      <td>train_test_val_images/val\\images\\train_test_va...</td>\n      <td>StateLineWeir_20190824_Farrell_435.jpg</td>\n      <td>2870.0</td>\n    </tr>\n    <tr>\n      <th>42058</th>\n      <td>train_test_val_images/val\\images\\train_test_va...</td>\n      <td>StateLineWeir_20140828_Farrell_665.JPG</td>\n      <td>1630.0</td>\n    </tr>\n  </tbody>\n</table>\n<p>42059 rows × 3 columns</p>\n</div>"
     },
     "execution_count": 92,
     "metadata": {},
     "output_type": "execute_result"
    }
   ],
   "source": [
    "df_val = pd.DataFrame()\n",
    "df_val['images'] = input_path_val\n",
    "df_val['filename'] = dfCNN[' Filename']\n",
    "df_val['discharge'] = dfCNN[' Discharge']\n",
    "df_val = df_val.sample(frac=1).reset_index(drop=True)\n",
    "df_val"
   ],
   "metadata": {
    "collapsed": false
   }
  },
  {
   "cell_type": "code",
   "execution_count": 93,
   "outputs": [],
   "source": [
    "model = Sequential()\n",
    "\n",
    "model.add(Conv2D(64, (3, 3), activation='relu',input_shape=(512,512,3)))\n",
    "model.add(MaxPooling2D(pool_size=(2, 2)))\n",
    "\n",
    "model.add(Conv2D(128, (3, 3), activation='relu'))\n",
    "model.add(MaxPooling2D(pool_size=(2, 2)))\n",
    "\n",
    "model.add(Conv2D(256, (3, 3), activation='relu'))\n",
    "model.add(MaxPooling2D(pool_size=(2,2)))\n",
    "model.add(Flatten())\n",
    "model.add(Dense(512, activation='relu'))\n",
    "model.add(Dense(1, activation='linear'))"
   ],
   "metadata": {
    "collapsed": false
   }
  },
  {
   "cell_type": "code",
   "execution_count": 111,
   "outputs": [],
   "source": [
    "model.compile(optimizer='adam', metrics=['mse'], loss=[tf.keras.metrics.MeanSquaredError()])"
   ],
   "metadata": {
    "collapsed": false
   }
  },
  {
   "cell_type": "code",
   "execution_count": 112,
   "outputs": [
    {
     "name": "stdout",
     "output_type": "stream",
     "text": [
      "Model: \"sequential_5\"\n",
      "_________________________________________________________________\n",
      " Layer (type)                Output Shape              Param #   \n",
      "=================================================================\n",
      " conv2d_15 (Conv2D)          (None, 510, 510, 64)      1792      \n",
      "                                                                 \n",
      " max_pooling2d_15 (MaxPoolin  (None, 255, 255, 64)     0         \n",
      " g2D)                                                            \n",
      "                                                                 \n",
      " conv2d_16 (Conv2D)          (None, 253, 253, 128)     73856     \n",
      "                                                                 \n",
      " max_pooling2d_16 (MaxPoolin  (None, 126, 126, 128)    0         \n",
      " g2D)                                                            \n",
      "                                                                 \n",
      " conv2d_17 (Conv2D)          (None, 124, 124, 256)     295168    \n",
      "                                                                 \n",
      " max_pooling2d_17 (MaxPoolin  (None, 62, 62, 256)      0         \n",
      " g2D)                                                            \n",
      "                                                                 \n",
      " flatten_5 (Flatten)         (None, 984064)            0         \n",
      "                                                                 \n",
      " dense_10 (Dense)            (None, 512)               503841280 \n",
      "                                                                 \n",
      " dense_11 (Dense)            (None, 1)                 513       \n",
      "                                                                 \n",
      "=================================================================\n",
      "Total params: 504,212,609\n",
      "Trainable params: 504,212,609\n",
      "Non-trainable params: 0\n",
      "_________________________________________________________________\n"
     ]
    }
   ],
   "source": [
    "model.summary()"
   ],
   "metadata": {
    "collapsed": false
   }
  },
  {
   "cell_type": "code",
   "execution_count": 99,
   "outputs": [
    {
     "data": {
      "text/plain": "Index(['images', 'filename', 'discharge'], dtype='object')"
     },
     "execution_count": 99,
     "metadata": {},
     "output_type": "execute_result"
    }
   ],
   "source": [
    "df_train.columns"
   ],
   "metadata": {
    "collapsed": false
   }
  },
  {
   "cell_type": "code",
   "execution_count": 120,
   "outputs": [
    {
     "name": "stdout",
     "output_type": "stream",
     "text": [
      "Found 0 validated image filenames.\n",
      "Found 0 validated image filenames.\n"
     ]
    }
   ],
   "source": [
    "datagen = ImageDataGenerator()\n",
    "train_data = datagen.flow_from_dataframe(\n",
    "    df_train,\n",
    "    # directory='train_test_val_images/',\n",
    "    x_col='images',\n",
    "    y_col='discharge',\n",
    "    target_size=(512,512),\n",
    "    batch_size=256,\n",
    "    class_mode='input'\n",
    ")\n",
    "\n",
    "val_data = datagen.flow_from_dataframe(\n",
    "    df_val,\n",
    "    # directory='train_test_val_images/',\n",
    "    x_col='images',\n",
    "    y_col='discharge',\n",
    "    target_size=(512,512),\n",
    "    batch_size=256,\n",
    "    class_mode='input'\n",
    ")"
   ],
   "metadata": {
    "collapsed": false
   }
  },
  {
   "cell_type": "code",
   "execution_count": 110,
   "outputs": [
    {
     "name": "stdout",
     "output_type": "stream",
     "text": [
      "Epoch 1/5\n"
     ]
    },
    {
     "ename": "ValueError",
     "evalue": "in user code:\n\n    File \"C:\\Users\\alex_\\anaconda3\\envs\\Projects\\lib\\site-packages\\keras\\engine\\training.py\", line 1051, in train_function  *\n        return step_function(self, iterator)\n    File \"C:\\Users\\alex_\\anaconda3\\envs\\Projects\\lib\\site-packages\\keras\\engine\\training.py\", line 1040, in step_function  **\n        outputs = model.distribute_strategy.run(run_step, args=(data,))\n    File \"C:\\Users\\alex_\\anaconda3\\envs\\Projects\\lib\\site-packages\\keras\\engine\\training.py\", line 1030, in run_step  **\n        outputs = model.train_step(data)\n    File \"C:\\Users\\alex_\\anaconda3\\envs\\Projects\\lib\\site-packages\\keras\\engine\\training.py\", line 890, in train_step\n        loss = self.compute_loss(x, y, y_pred, sample_weight)\n    File \"C:\\Users\\alex_\\anaconda3\\envs\\Projects\\lib\\site-packages\\keras\\engine\\training.py\", line 948, in compute_loss\n        return self.compiled_loss(\n    File \"C:\\Users\\alex_\\anaconda3\\envs\\Projects\\lib\\site-packages\\keras\\engine\\compile_utils.py\", line 184, in __call__\n        self.build(y_pred)\n    File \"C:\\Users\\alex_\\anaconda3\\envs\\Projects\\lib\\site-packages\\keras\\engine\\compile_utils.py\", line 133, in build\n        self._losses = tf.nest.map_structure(self._get_loss_object, self._losses)\n    File \"C:\\Users\\alex_\\anaconda3\\envs\\Projects\\lib\\site-packages\\keras\\engine\\compile_utils.py\", line 272, in _get_loss_object\n        loss = losses_mod.get(loss)\n    File \"C:\\Users\\alex_\\anaconda3\\envs\\Projects\\lib\\site-packages\\keras\\losses.py\", line 2367, in get\n        return deserialize(identifier)\n    File \"C:\\Users\\alex_\\anaconda3\\envs\\Projects\\lib\\site-packages\\keras\\losses.py\", line 2322, in deserialize\n        return deserialize_keras_object(\n    File \"C:\\Users\\alex_\\anaconda3\\envs\\Projects\\lib\\site-packages\\keras\\utils\\generic_utils.py\", line 709, in deserialize_keras_object\n        raise ValueError(\n\n    ValueError: Unknown loss function: mean_square_error. Please ensure this object is passed to the `custom_objects` argument. See https://www.tensorflow.org/guide/keras/save_and_serialize#registering_the_custom_object for details.\n",
     "output_type": "error",
     "traceback": [
      "\u001B[1;31m---------------------------------------------------------------------------\u001B[0m",
      "\u001B[1;31mValueError\u001B[0m                                Traceback (most recent call last)",
      "Cell \u001B[1;32mIn [110], line 1\u001B[0m\n\u001B[1;32m----> 1\u001B[0m history \u001B[38;5;241m=\u001B[39m \u001B[43mmodel\u001B[49m\u001B[38;5;241;43m.\u001B[39;49m\u001B[43mfit\u001B[49m\u001B[43m(\u001B[49m\u001B[43mtrain_data\u001B[49m\u001B[43m,\u001B[49m\u001B[43m \u001B[49m\u001B[43mepochs\u001B[49m\u001B[38;5;241;43m=\u001B[39;49m\u001B[38;5;241;43m5\u001B[39;49m\u001B[43m,\u001B[49m\u001B[43m \u001B[49m\u001B[43mvalidation_data\u001B[49m\u001B[38;5;241;43m=\u001B[39;49m\u001B[43mval_data\u001B[49m\u001B[43m)\u001B[49m\n",
      "File \u001B[1;32m~\\anaconda3\\envs\\Projects\\lib\\site-packages\\keras\\utils\\traceback_utils.py:67\u001B[0m, in \u001B[0;36mfilter_traceback.<locals>.error_handler\u001B[1;34m(*args, **kwargs)\u001B[0m\n\u001B[0;32m     65\u001B[0m \u001B[38;5;28;01mexcept\u001B[39;00m \u001B[38;5;167;01mException\u001B[39;00m \u001B[38;5;28;01mas\u001B[39;00m e:  \u001B[38;5;66;03m# pylint: disable=broad-except\u001B[39;00m\n\u001B[0;32m     66\u001B[0m   filtered_tb \u001B[38;5;241m=\u001B[39m _process_traceback_frames(e\u001B[38;5;241m.\u001B[39m__traceback__)\n\u001B[1;32m---> 67\u001B[0m   \u001B[38;5;28;01mraise\u001B[39;00m e\u001B[38;5;241m.\u001B[39mwith_traceback(filtered_tb) \u001B[38;5;28;01mfrom\u001B[39;00m \u001B[38;5;28mNone\u001B[39m\n\u001B[0;32m     68\u001B[0m \u001B[38;5;28;01mfinally\u001B[39;00m:\n\u001B[0;32m     69\u001B[0m   \u001B[38;5;28;01mdel\u001B[39;00m filtered_tb\n",
      "File \u001B[1;32m~\\AppData\\Local\\Temp\\__autograph_generated_filemylzat_n.py:15\u001B[0m, in \u001B[0;36mouter_factory.<locals>.inner_factory.<locals>.tf__train_function\u001B[1;34m(iterator)\u001B[0m\n\u001B[0;32m     13\u001B[0m \u001B[38;5;28;01mtry\u001B[39;00m:\n\u001B[0;32m     14\u001B[0m     do_return \u001B[38;5;241m=\u001B[39m \u001B[38;5;28;01mTrue\u001B[39;00m\n\u001B[1;32m---> 15\u001B[0m     retval_ \u001B[38;5;241m=\u001B[39m ag__\u001B[38;5;241m.\u001B[39mconverted_call(ag__\u001B[38;5;241m.\u001B[39mld(step_function), (ag__\u001B[38;5;241m.\u001B[39mld(\u001B[38;5;28mself\u001B[39m), ag__\u001B[38;5;241m.\u001B[39mld(iterator)), \u001B[38;5;28;01mNone\u001B[39;00m, fscope)\n\u001B[0;32m     16\u001B[0m \u001B[38;5;28;01mexcept\u001B[39;00m:\n\u001B[0;32m     17\u001B[0m     do_return \u001B[38;5;241m=\u001B[39m \u001B[38;5;28;01mFalse\u001B[39;00m\n",
      "\u001B[1;31mValueError\u001B[0m: in user code:\n\n    File \"C:\\Users\\alex_\\anaconda3\\envs\\Projects\\lib\\site-packages\\keras\\engine\\training.py\", line 1051, in train_function  *\n        return step_function(self, iterator)\n    File \"C:\\Users\\alex_\\anaconda3\\envs\\Projects\\lib\\site-packages\\keras\\engine\\training.py\", line 1040, in step_function  **\n        outputs = model.distribute_strategy.run(run_step, args=(data,))\n    File \"C:\\Users\\alex_\\anaconda3\\envs\\Projects\\lib\\site-packages\\keras\\engine\\training.py\", line 1030, in run_step  **\n        outputs = model.train_step(data)\n    File \"C:\\Users\\alex_\\anaconda3\\envs\\Projects\\lib\\site-packages\\keras\\engine\\training.py\", line 890, in train_step\n        loss = self.compute_loss(x, y, y_pred, sample_weight)\n    File \"C:\\Users\\alex_\\anaconda3\\envs\\Projects\\lib\\site-packages\\keras\\engine\\training.py\", line 948, in compute_loss\n        return self.compiled_loss(\n    File \"C:\\Users\\alex_\\anaconda3\\envs\\Projects\\lib\\site-packages\\keras\\engine\\compile_utils.py\", line 184, in __call__\n        self.build(y_pred)\n    File \"C:\\Users\\alex_\\anaconda3\\envs\\Projects\\lib\\site-packages\\keras\\engine\\compile_utils.py\", line 133, in build\n        self._losses = tf.nest.map_structure(self._get_loss_object, self._losses)\n    File \"C:\\Users\\alex_\\anaconda3\\envs\\Projects\\lib\\site-packages\\keras\\engine\\compile_utils.py\", line 272, in _get_loss_object\n        loss = losses_mod.get(loss)\n    File \"C:\\Users\\alex_\\anaconda3\\envs\\Projects\\lib\\site-packages\\keras\\losses.py\", line 2367, in get\n        return deserialize(identifier)\n    File \"C:\\Users\\alex_\\anaconda3\\envs\\Projects\\lib\\site-packages\\keras\\losses.py\", line 2322, in deserialize\n        return deserialize_keras_object(\n    File \"C:\\Users\\alex_\\anaconda3\\envs\\Projects\\lib\\site-packages\\keras\\utils\\generic_utils.py\", line 709, in deserialize_keras_object\n        raise ValueError(\n\n    ValueError: Unknown loss function: mean_square_error. Please ensure this object is passed to the `custom_objects` argument. See https://www.tensorflow.org/guide/keras/save_and_serialize#registering_the_custom_object for details.\n"
     ]
    }
   ],
   "source": [
    "history = model.fit(train_data, epochs=5, validation_data=val_data)"
   ],
   "metadata": {
    "collapsed": false
   }
  }
 ],
 "metadata": {
  "kernelspec": {
   "display_name": "Python 3",
   "language": "python",
   "name": "python3"
  },
  "language_info": {
   "codemirror_mode": {
    "name": "ipython",
    "version": 2
   },
   "file_extension": ".py",
   "mimetype": "text/x-python",
   "name": "python",
   "nbconvert_exporter": "python",
   "pygments_lexer": "ipython2",
   "version": "2.7.6"
  }
 },
 "nbformat": 4,
 "nbformat_minor": 0
}
