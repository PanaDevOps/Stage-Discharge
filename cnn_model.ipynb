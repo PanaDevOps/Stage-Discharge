{
 "cells": [
  {
   "cell_type": "code",
   "execution_count": 1,
   "metadata": {
    "collapsed": true
   },
   "outputs": [],
   "source": [
    "# Import libraries and functions\n",
    "import numpy as np\n",
    "import pandas as pd\n",
    "import matplotlib.pyplot as plt\n",
    "import random\n",
    "import keras\n",
    "import tensorflow as tf\n",
    "import warnings\n",
    "import os\n",
    "from keras import layers\n",
    "from keras import models\n",
    "from keras import optimizers\n",
    "from tensorflow.keras.layers import Dense, Flatten, Conv2D, MaxPooling2D, BatchNormalization\n",
    "from tensorflow.keras import Model\n",
    "from tensorflow.keras import Sequential\n",
    "from tensorflow.keras.optimizers import Adam\n",
    "from tensorflow.keras.callbacks import EarlyStopping\n",
    "from keras.preprocessing.image import ImageDataGenerator\n",
    "warnings.filterwarnings('ignore')"
   ]
  },
  {
   "cell_type": "code",
   "execution_count": 2,
   "outputs": [],
   "source": [
    "url = 'Datasets/2012_2019_PlatteRiverWeir_features_merged_all.csv'\n",
    "\n",
    "dfCNN = pd.read_csv(url)"
   ],
   "metadata": {
    "collapsed": false
   }
  },
  {
   "cell_type": "code",
   "execution_count": 3,
   "outputs": [
    {
     "data": {
      "text/plain": "                SensorTime          CaptureTime  \\\n0      2012-06-09 13:15:00  2012-06-09T13:09:07   \n1      2012-06-09 13:15:00  2012-06-09T13:10:29   \n2      2012-06-09 13:45:00  2012-06-09T13:44:01   \n3      2012-06-09 14:45:00  2012-06-09T14:44:30   \n4      2012-06-09 15:45:00  2012-06-09T15:44:59   \n...                    ...                  ...   \n42054  2019-10-11 09:00:00  2019-10-11T08:59:53   \n42055  2019-10-11 10:00:00  2019-10-11T09:59:52   \n42056  2019-10-11 11:00:00  2019-10-11T10:59:52   \n42057  2019-10-11 12:00:00  2019-10-11T11:59:53   \n42058  2019-10-11 12:45:00  2019-10-11T12:59:52   \n\n                                     Filename  Agency   SiteNumber  TimeZone  \\\n0      StateLineWeir_20120609_Farrell_001.jpg    USGS      6674500       MDT   \n1      StateLineWeir_20120609_Farrell_002.jpg    USGS      6674500       MDT   \n2      StateLineWeir_20120609_Farrell_003.jpg    USGS      6674500       MDT   \n3      StateLineWeir_20120609_Farrell_004.jpg    USGS      6674500       MDT   \n4      StateLineWeir_20120609_Farrell_005.jpg    USGS      6674500       MDT   \n...                                       ...     ...          ...       ...   \n42054  StateLineWeir_20191011_Farrell_409.jpg    USGS      6674500       MDT   \n42055  StateLineWeir_20191011_Farrell_410.jpg    USGS      6674500       MDT   \n42056  StateLineWeir_20191011_Farrell_411.jpg    USGS      6674500       MDT   \n42057  StateLineWeir_20191011_Farrell_412.jpg    USGS      6674500       MDT   \n42058  StateLineWeir_20191011_Farrell_413.jpg    USGS      6674500       MDT   \n\n        Stage   Discharge        CalcTimestamp   width  ...   WeirPt2X  \\\n0        2.99       916.0  2020-03-11T16:58:28    4288  ...         -1   \n1        2.99       916.0  2020-03-11T16:58:33    4288  ...         -1   \n2        2.96       873.0  2020-03-11T16:58:40    4288  ...         -1   \n3        2.94       846.0  2020-03-11T16:58:47    4288  ...         -1   \n4        2.94       846.0  2020-03-11T16:58:55    4288  ...         -1   \n...       ...         ...                  ...     ...  ...        ...   \n42054    2.54       434.0  2020-03-12T16:23:53    4288  ...       2446   \n42055    2.54       434.0  2020-03-12T16:23:54    4288  ...       2440   \n42056    2.54       434.0  2020-03-12T16:23:55    4288  ...       2447   \n42057    2.54       434.0  2020-03-12T16:23:56    4288  ...       2443   \n42058    2.54       434.0  2020-03-12T16:23:58    4288  ...       2436   \n\n        WeirPt2Y   WwRawLineMin   WwRawLineMax   WwRawLineMean  \\\n0             -1            0.0            0.0        0.000000   \n1             -1            0.0            0.0        0.000000   \n2             -1            0.0            0.0        0.000000   \n3             -1            0.0            0.0        0.000000   \n4             -1            0.0            0.0        0.000000   \n...          ...            ...            ...             ...   \n42054       1900         9284.0        77521.0    38385.370066   \n42055       1900        10092.0        74614.0    40162.989292   \n42056       1900         7067.0        83260.0    42095.946590   \n42057       1900         6283.0        83045.0    45345.490954   \n42058       1900         7375.0        89813.0    47877.870782   \n\n        WwRawLineSigma   WwCurveLineMin   WwCurveLineMax   WwCurveLineMean  \\\n0             0.000000              0.0              0.0          0.000000   \n1             0.000000              0.0              0.0          0.000000   \n2             0.000000              0.0              0.0          0.000000   \n3             0.000000              0.0              0.0          0.000000   \n4             0.000000              0.0              0.0          0.000000   \n...                ...              ...              ...               ...   \n42054     15952.029728              0.0          70085.0      37550.894823   \n42055     15467.708856              0.0          70061.0      39397.339095   \n42056     16770.357949              0.0          76335.0      41350.006568   \n42057     17498.432849              0.0          78882.0      44553.920296   \n42058     19963.166359              0.0          82630.0      47280.270559   \n\n        WwCurveLineSigma  \n0               0.000000  \n1               0.000000  \n2               0.000000  \n3               0.000000  \n4               0.000000  \n...                  ...  \n42054       16444.401209  \n42055       16009.008049  \n42056       17489.374617  \n42057       18268.294896  \n42058       20559.358767  \n\n[42059 rows x 59 columns]",
      "text/html": "<div>\n<style scoped>\n    .dataframe tbody tr th:only-of-type {\n        vertical-align: middle;\n    }\n\n    .dataframe tbody tr th {\n        vertical-align: top;\n    }\n\n    .dataframe thead th {\n        text-align: right;\n    }\n</style>\n<table border=\"1\" class=\"dataframe\">\n  <thead>\n    <tr style=\"text-align: right;\">\n      <th></th>\n      <th>SensorTime</th>\n      <th>CaptureTime</th>\n      <th>Filename</th>\n      <th>Agency</th>\n      <th>SiteNumber</th>\n      <th>TimeZone</th>\n      <th>Stage</th>\n      <th>Discharge</th>\n      <th>CalcTimestamp</th>\n      <th>width</th>\n      <th>...</th>\n      <th>WeirPt2X</th>\n      <th>WeirPt2Y</th>\n      <th>WwRawLineMin</th>\n      <th>WwRawLineMax</th>\n      <th>WwRawLineMean</th>\n      <th>WwRawLineSigma</th>\n      <th>WwCurveLineMin</th>\n      <th>WwCurveLineMax</th>\n      <th>WwCurveLineMean</th>\n      <th>WwCurveLineSigma</th>\n    </tr>\n  </thead>\n  <tbody>\n    <tr>\n      <th>0</th>\n      <td>2012-06-09 13:15:00</td>\n      <td>2012-06-09T13:09:07</td>\n      <td>StateLineWeir_20120609_Farrell_001.jpg</td>\n      <td>USGS</td>\n      <td>6674500</td>\n      <td>MDT</td>\n      <td>2.99</td>\n      <td>916.0</td>\n      <td>2020-03-11T16:58:28</td>\n      <td>4288</td>\n      <td>...</td>\n      <td>-1</td>\n      <td>-1</td>\n      <td>0.0</td>\n      <td>0.0</td>\n      <td>0.000000</td>\n      <td>0.000000</td>\n      <td>0.0</td>\n      <td>0.0</td>\n      <td>0.000000</td>\n      <td>0.000000</td>\n    </tr>\n    <tr>\n      <th>1</th>\n      <td>2012-06-09 13:15:00</td>\n      <td>2012-06-09T13:10:29</td>\n      <td>StateLineWeir_20120609_Farrell_002.jpg</td>\n      <td>USGS</td>\n      <td>6674500</td>\n      <td>MDT</td>\n      <td>2.99</td>\n      <td>916.0</td>\n      <td>2020-03-11T16:58:33</td>\n      <td>4288</td>\n      <td>...</td>\n      <td>-1</td>\n      <td>-1</td>\n      <td>0.0</td>\n      <td>0.0</td>\n      <td>0.000000</td>\n      <td>0.000000</td>\n      <td>0.0</td>\n      <td>0.0</td>\n      <td>0.000000</td>\n      <td>0.000000</td>\n    </tr>\n    <tr>\n      <th>2</th>\n      <td>2012-06-09 13:45:00</td>\n      <td>2012-06-09T13:44:01</td>\n      <td>StateLineWeir_20120609_Farrell_003.jpg</td>\n      <td>USGS</td>\n      <td>6674500</td>\n      <td>MDT</td>\n      <td>2.96</td>\n      <td>873.0</td>\n      <td>2020-03-11T16:58:40</td>\n      <td>4288</td>\n      <td>...</td>\n      <td>-1</td>\n      <td>-1</td>\n      <td>0.0</td>\n      <td>0.0</td>\n      <td>0.000000</td>\n      <td>0.000000</td>\n      <td>0.0</td>\n      <td>0.0</td>\n      <td>0.000000</td>\n      <td>0.000000</td>\n    </tr>\n    <tr>\n      <th>3</th>\n      <td>2012-06-09 14:45:00</td>\n      <td>2012-06-09T14:44:30</td>\n      <td>StateLineWeir_20120609_Farrell_004.jpg</td>\n      <td>USGS</td>\n      <td>6674500</td>\n      <td>MDT</td>\n      <td>2.94</td>\n      <td>846.0</td>\n      <td>2020-03-11T16:58:47</td>\n      <td>4288</td>\n      <td>...</td>\n      <td>-1</td>\n      <td>-1</td>\n      <td>0.0</td>\n      <td>0.0</td>\n      <td>0.000000</td>\n      <td>0.000000</td>\n      <td>0.0</td>\n      <td>0.0</td>\n      <td>0.000000</td>\n      <td>0.000000</td>\n    </tr>\n    <tr>\n      <th>4</th>\n      <td>2012-06-09 15:45:00</td>\n      <td>2012-06-09T15:44:59</td>\n      <td>StateLineWeir_20120609_Farrell_005.jpg</td>\n      <td>USGS</td>\n      <td>6674500</td>\n      <td>MDT</td>\n      <td>2.94</td>\n      <td>846.0</td>\n      <td>2020-03-11T16:58:55</td>\n      <td>4288</td>\n      <td>...</td>\n      <td>-1</td>\n      <td>-1</td>\n      <td>0.0</td>\n      <td>0.0</td>\n      <td>0.000000</td>\n      <td>0.000000</td>\n      <td>0.0</td>\n      <td>0.0</td>\n      <td>0.000000</td>\n      <td>0.000000</td>\n    </tr>\n    <tr>\n      <th>...</th>\n      <td>...</td>\n      <td>...</td>\n      <td>...</td>\n      <td>...</td>\n      <td>...</td>\n      <td>...</td>\n      <td>...</td>\n      <td>...</td>\n      <td>...</td>\n      <td>...</td>\n      <td>...</td>\n      <td>...</td>\n      <td>...</td>\n      <td>...</td>\n      <td>...</td>\n      <td>...</td>\n      <td>...</td>\n      <td>...</td>\n      <td>...</td>\n      <td>...</td>\n      <td>...</td>\n    </tr>\n    <tr>\n      <th>42054</th>\n      <td>2019-10-11 09:00:00</td>\n      <td>2019-10-11T08:59:53</td>\n      <td>StateLineWeir_20191011_Farrell_409.jpg</td>\n      <td>USGS</td>\n      <td>6674500</td>\n      <td>MDT</td>\n      <td>2.54</td>\n      <td>434.0</td>\n      <td>2020-03-12T16:23:53</td>\n      <td>4288</td>\n      <td>...</td>\n      <td>2446</td>\n      <td>1900</td>\n      <td>9284.0</td>\n      <td>77521.0</td>\n      <td>38385.370066</td>\n      <td>15952.029728</td>\n      <td>0.0</td>\n      <td>70085.0</td>\n      <td>37550.894823</td>\n      <td>16444.401209</td>\n    </tr>\n    <tr>\n      <th>42055</th>\n      <td>2019-10-11 10:00:00</td>\n      <td>2019-10-11T09:59:52</td>\n      <td>StateLineWeir_20191011_Farrell_410.jpg</td>\n      <td>USGS</td>\n      <td>6674500</td>\n      <td>MDT</td>\n      <td>2.54</td>\n      <td>434.0</td>\n      <td>2020-03-12T16:23:54</td>\n      <td>4288</td>\n      <td>...</td>\n      <td>2440</td>\n      <td>1900</td>\n      <td>10092.0</td>\n      <td>74614.0</td>\n      <td>40162.989292</td>\n      <td>15467.708856</td>\n      <td>0.0</td>\n      <td>70061.0</td>\n      <td>39397.339095</td>\n      <td>16009.008049</td>\n    </tr>\n    <tr>\n      <th>42056</th>\n      <td>2019-10-11 11:00:00</td>\n      <td>2019-10-11T10:59:52</td>\n      <td>StateLineWeir_20191011_Farrell_411.jpg</td>\n      <td>USGS</td>\n      <td>6674500</td>\n      <td>MDT</td>\n      <td>2.54</td>\n      <td>434.0</td>\n      <td>2020-03-12T16:23:55</td>\n      <td>4288</td>\n      <td>...</td>\n      <td>2447</td>\n      <td>1900</td>\n      <td>7067.0</td>\n      <td>83260.0</td>\n      <td>42095.946590</td>\n      <td>16770.357949</td>\n      <td>0.0</td>\n      <td>76335.0</td>\n      <td>41350.006568</td>\n      <td>17489.374617</td>\n    </tr>\n    <tr>\n      <th>42057</th>\n      <td>2019-10-11 12:00:00</td>\n      <td>2019-10-11T11:59:53</td>\n      <td>StateLineWeir_20191011_Farrell_412.jpg</td>\n      <td>USGS</td>\n      <td>6674500</td>\n      <td>MDT</td>\n      <td>2.54</td>\n      <td>434.0</td>\n      <td>2020-03-12T16:23:56</td>\n      <td>4288</td>\n      <td>...</td>\n      <td>2443</td>\n      <td>1900</td>\n      <td>6283.0</td>\n      <td>83045.0</td>\n      <td>45345.490954</td>\n      <td>17498.432849</td>\n      <td>0.0</td>\n      <td>78882.0</td>\n      <td>44553.920296</td>\n      <td>18268.294896</td>\n    </tr>\n    <tr>\n      <th>42058</th>\n      <td>2019-10-11 12:45:00</td>\n      <td>2019-10-11T12:59:52</td>\n      <td>StateLineWeir_20191011_Farrell_413.jpg</td>\n      <td>USGS</td>\n      <td>6674500</td>\n      <td>MDT</td>\n      <td>2.54</td>\n      <td>434.0</td>\n      <td>2020-03-12T16:23:58</td>\n      <td>4288</td>\n      <td>...</td>\n      <td>2436</td>\n      <td>1900</td>\n      <td>7375.0</td>\n      <td>89813.0</td>\n      <td>47877.870782</td>\n      <td>19963.166359</td>\n      <td>0.0</td>\n      <td>82630.0</td>\n      <td>47280.270559</td>\n      <td>20559.358767</td>\n    </tr>\n  </tbody>\n</table>\n<p>42059 rows × 59 columns</p>\n</div>"
     },
     "execution_count": 3,
     "metadata": {},
     "output_type": "execute_result"
    }
   ],
   "source": [
    "dfCNN"
   ],
   "metadata": {
    "collapsed": false
   }
  },
  {
   "cell_type": "code",
   "execution_count": 30,
   "outputs": [],
   "source": [
    "input_path_train = []\n",
    "\n",
    "for filename in os.listdir('train_test_val_images/train/'):\n",
    "    for path in 'train_test_val_images/train/images/'+dfCNN[' Filename']:\n",
    "        input_path_train.append(os.path.join('train_test_val_images/train/images/', filename, path))"
   ],
   "metadata": {
    "collapsed": false
   }
  },
  {
   "cell_type": "code",
   "execution_count": 31,
   "outputs": [
    {
     "data": {
      "text/plain": "                                                  images  \\\n0      train_test_val_images/train/images/images\\trai...   \n1      train_test_val_images/train/images/images\\trai...   \n2      train_test_val_images/train/images/images\\trai...   \n3      train_test_val_images/train/images/images\\trai...   \n4      train_test_val_images/train/images/images\\trai...   \n...                                                  ...   \n42054  train_test_val_images/train/images/images\\trai...   \n42055  train_test_val_images/train/images/images\\trai...   \n42056  train_test_val_images/train/images/images\\trai...   \n42057  train_test_val_images/train/images/images\\trai...   \n42058  train_test_val_images/train/images/images\\trai...   \n\n                                     filename  discharge  \n0      StateLineWeir_20180402_Farrell_175.jpg     220.00  \n1      StateLineWeir_20141014_Farrell_642.JPG     416.00  \n2      StateLineWeir_20141022_Farrell_804.JPG     359.00  \n3      StateLineWeir_20170129_Farrell_088.jpg     301.00  \n4      StateLineWeir_20150414_Farrell_897.JPG     155.00  \n...                                       ...        ...  \n42054  StateLineWeir_20130612_Farrell_367.JPG       7.05  \n42055  StateLineWeir_20150729_Farrell_242.JPG    1160.00  \n42056  StateLineWeir_20171220_Farrell_103.jpg     209.00  \n42057  StateLineWeir_20160122_Farrell_598.JPG     255.00  \n42058  StateLineWeir_20170318_Farrell_419.jpg     371.00  \n\n[42059 rows x 3 columns]",
      "text/html": "<div>\n<style scoped>\n    .dataframe tbody tr th:only-of-type {\n        vertical-align: middle;\n    }\n\n    .dataframe tbody tr th {\n        vertical-align: top;\n    }\n\n    .dataframe thead th {\n        text-align: right;\n    }\n</style>\n<table border=\"1\" class=\"dataframe\">\n  <thead>\n    <tr style=\"text-align: right;\">\n      <th></th>\n      <th>images</th>\n      <th>filename</th>\n      <th>discharge</th>\n    </tr>\n  </thead>\n  <tbody>\n    <tr>\n      <th>0</th>\n      <td>train_test_val_images/train/images/images\\trai...</td>\n      <td>StateLineWeir_20180402_Farrell_175.jpg</td>\n      <td>220.00</td>\n    </tr>\n    <tr>\n      <th>1</th>\n      <td>train_test_val_images/train/images/images\\trai...</td>\n      <td>StateLineWeir_20141014_Farrell_642.JPG</td>\n      <td>416.00</td>\n    </tr>\n    <tr>\n      <th>2</th>\n      <td>train_test_val_images/train/images/images\\trai...</td>\n      <td>StateLineWeir_20141022_Farrell_804.JPG</td>\n      <td>359.00</td>\n    </tr>\n    <tr>\n      <th>3</th>\n      <td>train_test_val_images/train/images/images\\trai...</td>\n      <td>StateLineWeir_20170129_Farrell_088.jpg</td>\n      <td>301.00</td>\n    </tr>\n    <tr>\n      <th>4</th>\n      <td>train_test_val_images/train/images/images\\trai...</td>\n      <td>StateLineWeir_20150414_Farrell_897.JPG</td>\n      <td>155.00</td>\n    </tr>\n    <tr>\n      <th>...</th>\n      <td>...</td>\n      <td>...</td>\n      <td>...</td>\n    </tr>\n    <tr>\n      <th>42054</th>\n      <td>train_test_val_images/train/images/images\\trai...</td>\n      <td>StateLineWeir_20130612_Farrell_367.JPG</td>\n      <td>7.05</td>\n    </tr>\n    <tr>\n      <th>42055</th>\n      <td>train_test_val_images/train/images/images\\trai...</td>\n      <td>StateLineWeir_20150729_Farrell_242.JPG</td>\n      <td>1160.00</td>\n    </tr>\n    <tr>\n      <th>42056</th>\n      <td>train_test_val_images/train/images/images\\trai...</td>\n      <td>StateLineWeir_20171220_Farrell_103.jpg</td>\n      <td>209.00</td>\n    </tr>\n    <tr>\n      <th>42057</th>\n      <td>train_test_val_images/train/images/images\\trai...</td>\n      <td>StateLineWeir_20160122_Farrell_598.JPG</td>\n      <td>255.00</td>\n    </tr>\n    <tr>\n      <th>42058</th>\n      <td>train_test_val_images/train/images/images\\trai...</td>\n      <td>StateLineWeir_20170318_Farrell_419.jpg</td>\n      <td>371.00</td>\n    </tr>\n  </tbody>\n</table>\n<p>42059 rows × 3 columns</p>\n</div>"
     },
     "execution_count": 31,
     "metadata": {},
     "output_type": "execute_result"
    }
   ],
   "source": [
    "df_train = pd.DataFrame()\n",
    "df_train['images'] = input_path_train\n",
    "df_train['filename'] = dfCNN[' Filename']\n",
    "df_train['discharge'] = dfCNN[' Discharge']\n",
    "df_train = df_train.sample(frac=1).reset_index(drop=True)\n",
    "df_train"
   ],
   "metadata": {
    "collapsed": false
   }
  },
  {
   "cell_type": "code",
   "execution_count": 27,
   "outputs": [],
   "source": [
    "input_path_test = []\n",
    "\n",
    "for filename in os.listdir('train_test_val_images/test'):\n",
    "    for path in 'train_test_val_images/test/images/'+dfCNN[' Filename']:\n",
    "        input_path_test.append(os.path.join('train_test_val_images/test/images', filename, path))"
   ],
   "metadata": {
    "collapsed": false
   }
  },
  {
   "cell_type": "code",
   "execution_count": 28,
   "outputs": [
    {
     "data": {
      "text/plain": "                                                  images  \\\n0      train_test_val_images/test/images\\images\\train...   \n1      train_test_val_images/test/images\\images\\train...   \n2      train_test_val_images/test/images\\images\\train...   \n3      train_test_val_images/test/images\\images\\train...   \n4      train_test_val_images/test/images\\images\\train...   \n...                                                  ...   \n42054  train_test_val_images/test/images\\images\\train...   \n42055  train_test_val_images/test/images\\images\\train...   \n42056  train_test_val_images/test/images\\images\\train...   \n42057  train_test_val_images/test/images\\images\\train...   \n42058  train_test_val_images/test/images\\images\\train...   \n\n                                     filename  discharge  \n0      StateLineWeir_20180911_Farrell_032.jpg      990.0  \n1      StateLineWeir_20160730_Farrell_954.jpg     1750.0  \n2      StateLineWeir_20140204_Farrell_949.JPG        0.0  \n3      StateLineWeir_20170114_Farrell_671.jpg      293.0  \n4      StateLineWeir_20130727_Farrell_882.JPG     1210.0  \n...                                       ...        ...  \n42054  StateLineWeir_20170227_Farrell_878.jpg      340.0  \n42055  StateLineWeir_20121027_Farrell_983.JPG      155.0  \n42056  StateLineWeir_20140427_Farrell_020.JPG      159.0  \n42057  StateLineWeir_20170613_Farrell_829.jpg     3430.0  \n42058  StateLineWeir_20190927_Farrell_140.jpg      688.0  \n\n[42059 rows x 3 columns]",
      "text/html": "<div>\n<style scoped>\n    .dataframe tbody tr th:only-of-type {\n        vertical-align: middle;\n    }\n\n    .dataframe tbody tr th {\n        vertical-align: top;\n    }\n\n    .dataframe thead th {\n        text-align: right;\n    }\n</style>\n<table border=\"1\" class=\"dataframe\">\n  <thead>\n    <tr style=\"text-align: right;\">\n      <th></th>\n      <th>images</th>\n      <th>filename</th>\n      <th>discharge</th>\n    </tr>\n  </thead>\n  <tbody>\n    <tr>\n      <th>0</th>\n      <td>train_test_val_images/test/images\\images\\train...</td>\n      <td>StateLineWeir_20180911_Farrell_032.jpg</td>\n      <td>990.0</td>\n    </tr>\n    <tr>\n      <th>1</th>\n      <td>train_test_val_images/test/images\\images\\train...</td>\n      <td>StateLineWeir_20160730_Farrell_954.jpg</td>\n      <td>1750.0</td>\n    </tr>\n    <tr>\n      <th>2</th>\n      <td>train_test_val_images/test/images\\images\\train...</td>\n      <td>StateLineWeir_20140204_Farrell_949.JPG</td>\n      <td>0.0</td>\n    </tr>\n    <tr>\n      <th>3</th>\n      <td>train_test_val_images/test/images\\images\\train...</td>\n      <td>StateLineWeir_20170114_Farrell_671.jpg</td>\n      <td>293.0</td>\n    </tr>\n    <tr>\n      <th>4</th>\n      <td>train_test_val_images/test/images\\images\\train...</td>\n      <td>StateLineWeir_20130727_Farrell_882.JPG</td>\n      <td>1210.0</td>\n    </tr>\n    <tr>\n      <th>...</th>\n      <td>...</td>\n      <td>...</td>\n      <td>...</td>\n    </tr>\n    <tr>\n      <th>42054</th>\n      <td>train_test_val_images/test/images\\images\\train...</td>\n      <td>StateLineWeir_20170227_Farrell_878.jpg</td>\n      <td>340.0</td>\n    </tr>\n    <tr>\n      <th>42055</th>\n      <td>train_test_val_images/test/images\\images\\train...</td>\n      <td>StateLineWeir_20121027_Farrell_983.JPG</td>\n      <td>155.0</td>\n    </tr>\n    <tr>\n      <th>42056</th>\n      <td>train_test_val_images/test/images\\images\\train...</td>\n      <td>StateLineWeir_20140427_Farrell_020.JPG</td>\n      <td>159.0</td>\n    </tr>\n    <tr>\n      <th>42057</th>\n      <td>train_test_val_images/test/images\\images\\train...</td>\n      <td>StateLineWeir_20170613_Farrell_829.jpg</td>\n      <td>3430.0</td>\n    </tr>\n    <tr>\n      <th>42058</th>\n      <td>train_test_val_images/test/images\\images\\train...</td>\n      <td>StateLineWeir_20190927_Farrell_140.jpg</td>\n      <td>688.0</td>\n    </tr>\n  </tbody>\n</table>\n<p>42059 rows × 3 columns</p>\n</div>"
     },
     "execution_count": 28,
     "metadata": {},
     "output_type": "execute_result"
    }
   ],
   "source": [
    "df_test = pd.DataFrame()\n",
    "df_test['images'] = input_path_test\n",
    "df_test['filename'] = dfCNN[' Filename']\n",
    "df_test['discharge'] = dfCNN[' Discharge']\n",
    "df_test = df_test.sample(frac=1).reset_index(drop=True)\n",
    "df_test"
   ],
   "metadata": {
    "collapsed": false
   }
  },
  {
   "cell_type": "code",
   "execution_count": 25,
   "outputs": [],
   "source": [
    "input_path_val = []\n",
    "\n",
    "for filename in os.listdir('train_test_val_images/val/'):\n",
    "    for path in 'train_test_val_images/val/images/'+dfCNN[' Filename']:\n",
    "        input_path_val.append(os.path.join('train_test_val_images/val/images/', filename, path))"
   ],
   "metadata": {
    "collapsed": false
   }
  },
  {
   "cell_type": "code",
   "execution_count": 26,
   "outputs": [
    {
     "data": {
      "text/plain": "                                                  images  \\\n0      train_test_val_images/val/images/images\\train_...   \n1      train_test_val_images/val/images/images\\train_...   \n2      train_test_val_images/val/images/images\\train_...   \n3      train_test_val_images/val/images/images\\train_...   \n4      train_test_val_images/val/images/images\\train_...   \n...                                                  ...   \n42054  train_test_val_images/val/images/images\\train_...   \n42055  train_test_val_images/val/images/images\\train_...   \n42056  train_test_val_images/val/images/images\\train_...   \n42057  train_test_val_images/val/images/images\\train_...   \n42058  train_test_val_images/val/images/images\\train_...   \n\n                                     filename  discharge  \n0      StateLineWeir_20120620_Farrell_250.jpg     1270.0  \n1      StateLineWeir_20180807_Farrell_985.jpg     1240.0  \n2      StateLineWeir_20170409_Farrell_015.jpg      614.0  \n3      StateLineWeir_20150511_Farrell_503.JPG      704.0  \n4      StateLineWeir_20121128_Farrell_940.JPG      231.0  \n...                                       ...        ...  \n42054  StateLineWeir_20130213_Farrell_010.JPG      164.0  \n42055  StateLineWeir_20140313_Farrell_309.JPG      155.0  \n42056  StateLineWeir_20150511_Farrell_502.JPG      704.0  \n42057  StateLineWeir_20160415_Farrell_454.JPG      287.0  \n42058  StateLineWeir_20170717_Farrell_787.jpg     1500.0  \n\n[42059 rows x 3 columns]",
      "text/html": "<div>\n<style scoped>\n    .dataframe tbody tr th:only-of-type {\n        vertical-align: middle;\n    }\n\n    .dataframe tbody tr th {\n        vertical-align: top;\n    }\n\n    .dataframe thead th {\n        text-align: right;\n    }\n</style>\n<table border=\"1\" class=\"dataframe\">\n  <thead>\n    <tr style=\"text-align: right;\">\n      <th></th>\n      <th>images</th>\n      <th>filename</th>\n      <th>discharge</th>\n    </tr>\n  </thead>\n  <tbody>\n    <tr>\n      <th>0</th>\n      <td>train_test_val_images/val/images/images\\train_...</td>\n      <td>StateLineWeir_20120620_Farrell_250.jpg</td>\n      <td>1270.0</td>\n    </tr>\n    <tr>\n      <th>1</th>\n      <td>train_test_val_images/val/images/images\\train_...</td>\n      <td>StateLineWeir_20180807_Farrell_985.jpg</td>\n      <td>1240.0</td>\n    </tr>\n    <tr>\n      <th>2</th>\n      <td>train_test_val_images/val/images/images\\train_...</td>\n      <td>StateLineWeir_20170409_Farrell_015.jpg</td>\n      <td>614.0</td>\n    </tr>\n    <tr>\n      <th>3</th>\n      <td>train_test_val_images/val/images/images\\train_...</td>\n      <td>StateLineWeir_20150511_Farrell_503.JPG</td>\n      <td>704.0</td>\n    </tr>\n    <tr>\n      <th>4</th>\n      <td>train_test_val_images/val/images/images\\train_...</td>\n      <td>StateLineWeir_20121128_Farrell_940.JPG</td>\n      <td>231.0</td>\n    </tr>\n    <tr>\n      <th>...</th>\n      <td>...</td>\n      <td>...</td>\n      <td>...</td>\n    </tr>\n    <tr>\n      <th>42054</th>\n      <td>train_test_val_images/val/images/images\\train_...</td>\n      <td>StateLineWeir_20130213_Farrell_010.JPG</td>\n      <td>164.0</td>\n    </tr>\n    <tr>\n      <th>42055</th>\n      <td>train_test_val_images/val/images/images\\train_...</td>\n      <td>StateLineWeir_20140313_Farrell_309.JPG</td>\n      <td>155.0</td>\n    </tr>\n    <tr>\n      <th>42056</th>\n      <td>train_test_val_images/val/images/images\\train_...</td>\n      <td>StateLineWeir_20150511_Farrell_502.JPG</td>\n      <td>704.0</td>\n    </tr>\n    <tr>\n      <th>42057</th>\n      <td>train_test_val_images/val/images/images\\train_...</td>\n      <td>StateLineWeir_20160415_Farrell_454.JPG</td>\n      <td>287.0</td>\n    </tr>\n    <tr>\n      <th>42058</th>\n      <td>train_test_val_images/val/images/images\\train_...</td>\n      <td>StateLineWeir_20170717_Farrell_787.jpg</td>\n      <td>1500.0</td>\n    </tr>\n  </tbody>\n</table>\n<p>42059 rows × 3 columns</p>\n</div>"
     },
     "execution_count": 26,
     "metadata": {},
     "output_type": "execute_result"
    }
   ],
   "source": [
    "df_val = pd.DataFrame()\n",
    "df_val['images'] = input_path_val\n",
    "df_val['filename'] = dfCNN[' Filename']\n",
    "df_val['discharge'] = dfCNN[' Discharge']\n",
    "df_val = df_val.sample(frac=1).reset_index(drop=True)\n",
    "df_val"
   ],
   "metadata": {
    "collapsed": false
   }
  },
  {
   "cell_type": "code",
   "execution_count": 32,
   "outputs": [],
   "source": [
    "model = Sequential()\n",
    "\n",
    "model.add(Conv2D(64, (3, 3), activation='relu',input_shape=(512,512,3)))\n",
    "model.add(MaxPooling2D(pool_size=(2, 2)))\n",
    "\n",
    "model.add(Conv2D(128, (3, 3), activation='relu'))\n",
    "model.add(MaxPooling2D(pool_size=(2, 2)))\n",
    "\n",
    "model.add(Conv2D(256, (3, 3), activation='relu'))\n",
    "model.add(MaxPooling2D(pool_size=(2,2)))\n",
    "model.add(Flatten())\n",
    "model.add(Dense(512, activation='relu'))\n",
    "model.add(Dense(1, activation='linear'))"
   ],
   "metadata": {
    "collapsed": false
   }
  },
  {
   "cell_type": "code",
   "execution_count": 33,
   "outputs": [],
   "source": [
    "model.compile(optimizer='adam', metrics=['mse'], loss=[tf.keras.metrics.MeanSquaredError()])"
   ],
   "metadata": {
    "collapsed": false
   }
  },
  {
   "cell_type": "code",
   "execution_count": 34,
   "outputs": [
    {
     "name": "stdout",
     "output_type": "stream",
     "text": [
      "Model: \"sequential_1\"\n",
      "_________________________________________________________________\n",
      " Layer (type)                Output Shape              Param #   \n",
      "=================================================================\n",
      " conv2d_3 (Conv2D)           (None, 510, 510, 64)      1792      \n",
      "                                                                 \n",
      " max_pooling2d_3 (MaxPooling  (None, 255, 255, 64)     0         \n",
      " 2D)                                                             \n",
      "                                                                 \n",
      " conv2d_4 (Conv2D)           (None, 253, 253, 128)     73856     \n",
      "                                                                 \n",
      " max_pooling2d_4 (MaxPooling  (None, 126, 126, 128)    0         \n",
      " 2D)                                                             \n",
      "                                                                 \n",
      " conv2d_5 (Conv2D)           (None, 124, 124, 256)     295168    \n",
      "                                                                 \n",
      " max_pooling2d_5 (MaxPooling  (None, 62, 62, 256)      0         \n",
      " 2D)                                                             \n",
      "                                                                 \n",
      " flatten_1 (Flatten)         (None, 984064)            0         \n",
      "                                                                 \n",
      " dense_2 (Dense)             (None, 512)               503841280 \n",
      "                                                                 \n",
      " dense_3 (Dense)             (None, 1)                 513       \n",
      "                                                                 \n",
      "=================================================================\n",
      "Total params: 504,212,609\n",
      "Trainable params: 504,212,609\n",
      "Non-trainable params: 0\n",
      "_________________________________________________________________\n"
     ]
    }
   ],
   "source": [
    "model.summary()"
   ],
   "metadata": {
    "collapsed": false
   }
  },
  {
   "cell_type": "code",
   "execution_count": 13,
   "outputs": [
    {
     "data": {
      "text/plain": "Index(['images', 'filename', 'discharge'], dtype='object')"
     },
     "execution_count": 13,
     "metadata": {},
     "output_type": "execute_result"
    }
   ],
   "source": [
    "df_train.columns"
   ],
   "metadata": {
    "collapsed": false
   }
  },
  {
   "cell_type": "code",
   "execution_count": 22,
   "outputs": [
    {
     "data": {
      "text/plain": "Index(['images', 'filename', 'discharge'], dtype='object')"
     },
     "execution_count": 22,
     "metadata": {},
     "output_type": "execute_result"
    }
   ],
   "source": [
    "df_val.columns"
   ],
   "metadata": {
    "collapsed": false
   }
  },
  {
   "cell_type": "code",
   "execution_count": 35,
   "outputs": [
    {
     "name": "stdout",
     "output_type": "stream",
     "text": [
      "Found 0 validated image filenames.\n",
      "Found 0 validated image filenames.\n"
     ]
    }
   ],
   "source": [
    "datagen = ImageDataGenerator()\n",
    "train_data = datagen.flow_from_dataframe(\n",
    "    df_train,\n",
    "    # directory='train_test_val_images/train/',\n",
    "    x_col='filename',\n",
    "    y_col='discharge',\n",
    "    target_size=(512,512),\n",
    "    batch_size=8,\n",
    "    class_mode='raw',\n",
    "    validate_filenames=True\n",
    ")\n",
    "\n",
    "val_data = datagen.flow_from_dataframe(\n",
    "    df_val,\n",
    "    # directory='train_test_val_images/val/',\n",
    "    x_col='filename',\n",
    "    y_col='discharge',\n",
    "    target_size=(512,512),\n",
    "    batch_size=8,\n",
    "    class_mode='raw',\n",
    "    validate_filenames=True\n",
    ")\n",
    "\n",
    "# train_data = datagen.flow_from_directory(\n",
    "#     directory='train_test_val_images/train/',\n",
    "#     target_size=(512,512),\n",
    "#     batch_size=256,\n",
    "#     class_mode='input'\n",
    "# )\n",
    "#\n",
    "# val_data = datagen.flow_from_directory(\n",
    "#     directory='train_test_val_images/val/',\n",
    "#     target_size=(512,512),\n",
    "#     batch_size=256,\n",
    "#     class_mode='input'\n",
    "# )"
   ],
   "metadata": {
    "collapsed": false
   }
  },
  {
   "cell_type": "code",
   "execution_count": 19,
   "outputs": [
    {
     "ename": "ValueError",
     "evalue": "Asked to retrieve element 0, but the Sequence has length 0",
     "output_type": "error",
     "traceback": [
      "\u001B[1;31m---------------------------------------------------------------------------\u001B[0m",
      "\u001B[1;31mValueError\u001B[0m                                Traceback (most recent call last)",
      "Cell \u001B[1;32mIn [19], line 1\u001B[0m\n\u001B[1;32m----> 1\u001B[0m history \u001B[38;5;241m=\u001B[39m \u001B[43mmodel\u001B[49m\u001B[38;5;241;43m.\u001B[39;49m\u001B[43mfit\u001B[49m\u001B[43m(\u001B[49m\u001B[43mtrain_data\u001B[49m\u001B[43m,\u001B[49m\u001B[43m \u001B[49m\u001B[43mepochs\u001B[49m\u001B[38;5;241;43m=\u001B[39;49m\u001B[38;5;241;43m5\u001B[39;49m\u001B[43m,\u001B[49m\u001B[43m \u001B[49m\u001B[43mvalidation_data\u001B[49m\u001B[38;5;241;43m=\u001B[39;49m\u001B[43mval_data\u001B[49m\u001B[43m)\u001B[49m\n",
      "File \u001B[1;32m~\\anaconda3\\envs\\Projects\\lib\\site-packages\\keras\\utils\\traceback_utils.py:67\u001B[0m, in \u001B[0;36mfilter_traceback.<locals>.error_handler\u001B[1;34m(*args, **kwargs)\u001B[0m\n\u001B[0;32m     65\u001B[0m \u001B[38;5;28;01mexcept\u001B[39;00m \u001B[38;5;167;01mException\u001B[39;00m \u001B[38;5;28;01mas\u001B[39;00m e:  \u001B[38;5;66;03m# pylint: disable=broad-except\u001B[39;00m\n\u001B[0;32m     66\u001B[0m   filtered_tb \u001B[38;5;241m=\u001B[39m _process_traceback_frames(e\u001B[38;5;241m.\u001B[39m__traceback__)\n\u001B[1;32m---> 67\u001B[0m   \u001B[38;5;28;01mraise\u001B[39;00m e\u001B[38;5;241m.\u001B[39mwith_traceback(filtered_tb) \u001B[38;5;28;01mfrom\u001B[39;00m \u001B[38;5;28mNone\u001B[39m\n\u001B[0;32m     68\u001B[0m \u001B[38;5;28;01mfinally\u001B[39;00m:\n\u001B[0;32m     69\u001B[0m   \u001B[38;5;28;01mdel\u001B[39;00m filtered_tb\n",
      "File \u001B[1;32m~\\anaconda3\\envs\\Projects\\lib\\site-packages\\keras\\preprocessing\\image.py:100\u001B[0m, in \u001B[0;36mIterator.__getitem__\u001B[1;34m(self, idx)\u001B[0m\n\u001B[0;32m     98\u001B[0m \u001B[38;5;28;01mdef\u001B[39;00m \u001B[38;5;21m__getitem__\u001B[39m(\u001B[38;5;28mself\u001B[39m, idx):\n\u001B[0;32m     99\u001B[0m   \u001B[38;5;28;01mif\u001B[39;00m idx \u001B[38;5;241m>\u001B[39m\u001B[38;5;241m=\u001B[39m \u001B[38;5;28mlen\u001B[39m(\u001B[38;5;28mself\u001B[39m):\n\u001B[1;32m--> 100\u001B[0m     \u001B[38;5;28;01mraise\u001B[39;00m \u001B[38;5;167;01mValueError\u001B[39;00m(\u001B[38;5;124m'\u001B[39m\u001B[38;5;124mAsked to retrieve element \u001B[39m\u001B[38;5;132;01m{idx}\u001B[39;00m\u001B[38;5;124m, \u001B[39m\u001B[38;5;124m'\u001B[39m\n\u001B[0;32m    101\u001B[0m                      \u001B[38;5;124m'\u001B[39m\u001B[38;5;124mbut the Sequence \u001B[39m\u001B[38;5;124m'\u001B[39m\n\u001B[0;32m    102\u001B[0m                      \u001B[38;5;124m'\u001B[39m\u001B[38;5;124mhas length \u001B[39m\u001B[38;5;132;01m{length}\u001B[39;00m\u001B[38;5;124m'\u001B[39m\u001B[38;5;241m.\u001B[39mformat(idx\u001B[38;5;241m=\u001B[39midx, length\u001B[38;5;241m=\u001B[39m\u001B[38;5;28mlen\u001B[39m(\u001B[38;5;28mself\u001B[39m)))\n\u001B[0;32m    103\u001B[0m   \u001B[38;5;28;01mif\u001B[39;00m \u001B[38;5;28mself\u001B[39m\u001B[38;5;241m.\u001B[39mseed \u001B[38;5;129;01mis\u001B[39;00m \u001B[38;5;129;01mnot\u001B[39;00m \u001B[38;5;28;01mNone\u001B[39;00m:\n\u001B[0;32m    104\u001B[0m     np\u001B[38;5;241m.\u001B[39mrandom\u001B[38;5;241m.\u001B[39mseed(\u001B[38;5;28mself\u001B[39m\u001B[38;5;241m.\u001B[39mseed \u001B[38;5;241m+\u001B[39m \u001B[38;5;28mself\u001B[39m\u001B[38;5;241m.\u001B[39mtotal_batches_seen)\n",
      "\u001B[1;31mValueError\u001B[0m: Asked to retrieve element 0, but the Sequence has length 0"
     ]
    }
   ],
   "source": [
    "history = model.fit(train_data, epochs=5, validation_data=val_data)"
   ],
   "metadata": {
    "collapsed": false
   }
  }
 ],
 "metadata": {
  "kernelspec": {
   "display_name": "Python 3",
   "language": "python",
   "name": "python3"
  },
  "language_info": {
   "codemirror_mode": {
    "name": "ipython",
    "version": 2
   },
   "file_extension": ".py",
   "mimetype": "text/x-python",
   "name": "python",
   "nbconvert_exporter": "python",
   "pygments_lexer": "ipython2",
   "version": "2.7.6"
  }
 },
 "nbformat": 4,
 "nbformat_minor": 0
}
